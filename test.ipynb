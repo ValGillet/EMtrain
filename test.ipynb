{
 "cells": [
  {
   "cell_type": "code",
   "execution_count": 2,
   "metadata": {},
   "outputs": [],
   "source": [
    "import json\n",
    "import numpy as np\n",
    "import neuroglancer\n",
    "from time import sleep\n",
    "\n",
    "from funlib.persistence import open_ds\n",
    "from funlib.geometry import Roi\n",
    "\n",
    "from zarr.codecs import Blosc"
   ]
  },
  {
   "cell_type": "code",
   "execution_count": 8,
   "metadata": {},
   "outputs": [],
   "source": [
    "from PIL import Image\n",
    "from concurrent import futures\n",
    "from glob import glob\n",
    "from tqdm import tqdm\n",
    "import os\n",
    "\n",
    "from funlib.persistence import prepare_ds"
   ]
  },
  {
   "cell_type": "code",
   "execution_count": 5,
   "metadata": {},
   "outputs": [
    {
     "data": {
      "text/plain": [
       "array([229280, 105352,  50900])"
      ]
     },
     "execution_count": 5,
     "metadata": {},
     "output_type": "execute_result"
    }
   ],
   "source": [
    "np.array([28660, 13169, 1018]) *np.array([8,8, 50])"
   ]
  },
  {
   "cell_type": "code",
   "execution_count": 41,
   "metadata": {},
   "outputs": [],
   "source": [
    "ground_truth_config = '/mnt/hdd1/SRC/train_v2/ground_truth_config.json'\n",
    "\n",
    "with open(ground_truth_config, 'r') as f:\n",
    "    config = json.load(f)"
   ]
  },
  {
   "cell_type": "code",
   "execution_count": 43,
   "metadata": {},
   "outputs": [],
   "source": [
    "dataset = 'eciton'\n",
    "config_ds = config[dataset]\n",
    "\n",
    "raw_data = config_ds['raw_data']\n",
    "ground_truth_ds = config_ds['ground_truth_dataset']\n",
    "ground_truth = config_ds['ground_truth']\n",
    "\n",
    "voxel_size = np.array([50,10,10])\n",
    "context = (np.array([36, 124, 124]) - np.array([8, 32, 32]))"
   ]
  },
  {
   "cell_type": "code",
   "execution_count": 44,
   "metadata": {},
   "outputs": [],
   "source": [
    "d = 'MB_gt1'\n",
    "\n",
    "gt_ds = open_ds(ground_truth[d][0] + '/' + ground_truth_ds)\n",
    "raw_ds = open_ds(raw_data[d] + '/raw')"
   ]
  },
  {
   "cell_type": "code",
   "execution_count": 45,
   "metadata": {},
   "outputs": [],
   "source": [
    "raw = raw_ds[raw_ds.roi]\n",
    "gt = gt_ds.to_ndarray(raw_ds.roi, fill_value=0)"
   ]
  },
  {
   "cell_type": "code",
   "execution_count": 35,
   "metadata": {},
   "outputs": [],
   "source": [
    "gt = np.pad(gt, [(14,14),\n",
    "            (46,46),\n",
    "            (46,46)])"
   ]
  },
  {
   "cell_type": "code",
   "execution_count": 38,
   "metadata": {},
   "outputs": [
    {
     "data": {
      "text/plain": [
       "(50, 8, 8)"
      ]
     },
     "execution_count": 38,
     "metadata": {},
     "output_type": "execute_result"
    }
   ],
   "source": [
    "gt_ds.voxel_size"
   ]
  },
  {
   "cell_type": "code",
   "execution_count": 40,
   "metadata": {},
   "outputs": [
    {
     "data": {
      "text/plain": [
       "array([700, 460, 460])"
      ]
     },
     "execution_count": 40,
     "metadata": {},
     "output_type": "execute_result"
    }
   ],
   "source": [
    "np.array([14,46,46]) * np.array([50,10,10])"
   ]
  },
  {
   "cell_type": "code",
   "execution_count": 5,
   "metadata": {},
   "outputs": [
    {
     "name": "stderr",
     "output_type": "stream",
     "text": [
      "0it [00:00, ?it/s]"
     ]
    },
    {
     "name": "stderr",
     "output_type": "stream",
     "text": [
      "1it [00:00, 23.67it/s]\n",
      "1it [00:00, 24.24it/s]\n",
      "1it [00:00, 26.15it/s]\n",
      "1it [00:00, 32.37it/s]\n",
      "1it [00:00, 25.02it/s]\n",
      "1it [00:00, 26.25it/s]\n",
      "1it [00:00, 30.56it/s]\n",
      "1it [00:00, 29.69it/s]\n"
     ]
    }
   ],
   "source": [
    "data = []\n",
    "\n",
    "for dataset in raw_data.keys():\n",
    "    raw_ds = open_ds(raw_data[dataset] + '/raw', voxel_size=voxel_size)\n",
    "    for i, gt_path in tqdm(enumerate(ground_truth[dataset])):\n",
    "        gt_ds = open_ds(gt_path + '/' + ground_truth_ds, voxel_size=voxel_size)\n",
    "\n",
    "        raw = raw_ds[raw_ds.roi]\n",
    "        gt = gt_ds.to_ndarray(raw_ds.roi, fill_value=0)\n",
    "\n",
    "        data.append((raw, gt, (dataset, i)))"
   ]
  },
  {
   "cell_type": "code",
   "execution_count": 28,
   "metadata": {},
   "outputs": [
    {
     "ename": "TypeError",
     "evalue": "zarr.creation.open_array() got multiple values for keyword argument 'dimension_separator'",
     "output_type": "error",
     "traceback": [
      "\u001b[0;31m---------------------------------------------------------------------------\u001b[0m",
      "\u001b[0;31mTypeError\u001b[0m                                 Traceback (most recent call last)",
      "Cell \u001b[0;32mIn[28], line 1\u001b[0m\n\u001b[0;32m----> 1\u001b[0m test_ds \u001b[38;5;241m=\u001b[39m \u001b[43mprepare_ds\u001b[49m\u001b[43m(\u001b[49m\u001b[38;5;124;43m'\u001b[39;49m\u001b[38;5;124;43mtest.zarr\u001b[39;49m\u001b[38;5;124;43m'\u001b[39;49m\u001b[43m \u001b[49m\u001b[38;5;241;43m+\u001b[39;49m\u001b[43m \u001b[49m\u001b[38;5;124;43m'\u001b[39;49m\u001b[38;5;124;43m/raw\u001b[39;49m\u001b[38;5;124;43m'\u001b[39;49m\u001b[43m,\u001b[49m\n\u001b[1;32m      2\u001b[0m \u001b[43m                    \u001b[49m\u001b[43mmode\u001b[49m\u001b[38;5;241;43m=\u001b[39;49m\u001b[38;5;124;43m'\u001b[39;49m\u001b[38;5;124;43mw\u001b[39;49m\u001b[38;5;124;43m'\u001b[39;49m\u001b[43m,\u001b[49m\n\u001b[1;32m      3\u001b[0m \u001b[43m                    \u001b[49m\u001b[43mshape\u001b[49m\u001b[38;5;241;43m=\u001b[39;49m\u001b[43mraw_ds\u001b[49m\u001b[38;5;241;43m.\u001b[39;49m\u001b[43mshape\u001b[49m\u001b[43m,\u001b[49m\n\u001b[1;32m      4\u001b[0m \u001b[43m                    \u001b[49m\u001b[43moffset\u001b[49m\u001b[38;5;241;43m=\u001b[39;49m\u001b[43mraw_ds\u001b[49m\u001b[38;5;241;43m.\u001b[39;49m\u001b[43mroi\u001b[49m\u001b[38;5;241;43m.\u001b[39;49m\u001b[43mget_begin\u001b[49m\u001b[43m(\u001b[49m\u001b[43m)\u001b[49m\u001b[43m,\u001b[49m\n\u001b[1;32m      5\u001b[0m \u001b[43m                    \u001b[49m\u001b[43mvoxel_size\u001b[49m\u001b[38;5;241;43m=\u001b[39;49m\u001b[43mvoxel_size\u001b[49m\u001b[43m,\u001b[49m\n\u001b[1;32m      6\u001b[0m \u001b[43m                    \u001b[49m\u001b[43maxis_names\u001b[49m\u001b[38;5;241;43m=\u001b[39;49m\u001b[43m[\u001b[49m\u001b[38;5;124;43m'\u001b[39;49m\u001b[38;5;124;43mz\u001b[39;49m\u001b[38;5;124;43m'\u001b[39;49m\u001b[43m,\u001b[49m\u001b[43m \u001b[49m\u001b[38;5;124;43m'\u001b[39;49m\u001b[38;5;124;43my\u001b[39;49m\u001b[38;5;124;43m'\u001b[39;49m\u001b[43m,\u001b[49m\u001b[43m \u001b[49m\u001b[38;5;124;43m'\u001b[39;49m\u001b[38;5;124;43mx\u001b[39;49m\u001b[38;5;124;43m'\u001b[39;49m\u001b[43m]\u001b[49m\u001b[43m,\u001b[49m\n\u001b[1;32m      7\u001b[0m \u001b[43m                    \u001b[49m\u001b[43munits\u001b[49m\u001b[38;5;241;43m=\u001b[39;49m\u001b[43m[\u001b[49m\u001b[38;5;124;43m'\u001b[39;49m\u001b[38;5;124;43mnm\u001b[39;49m\u001b[38;5;124;43m'\u001b[39;49m\u001b[43m]\u001b[49m\u001b[38;5;241;43m*\u001b[39;49m\u001b[38;5;241;43m3\u001b[39;49m\u001b[43m,\u001b[49m\n\u001b[1;32m      8\u001b[0m \u001b[43m                    \u001b[49m\u001b[43mdtype\u001b[49m\u001b[38;5;241;43m=\u001b[39;49m\u001b[43mnp\u001b[49m\u001b[38;5;241;43m.\u001b[39;49m\u001b[43muint8\u001b[49m\u001b[43m,\u001b[49m\n\u001b[1;32m      9\u001b[0m \u001b[43m                    \u001b[49m\u001b[43mcompressor\u001b[49m\u001b[38;5;241;43m=\u001b[39;49m\u001b[43mBlosc\u001b[49m\u001b[43m(\u001b[49m\u001b[38;5;124;43m'\u001b[39;49m\u001b[38;5;124;43mzlib\u001b[39;49m\u001b[38;5;124;43m'\u001b[39;49m\u001b[43m,\u001b[49m\u001b[43m \u001b[49m\u001b[43mclevel\u001b[49m\u001b[38;5;241;43m=\u001b[39;49m\u001b[38;5;241;43m5\u001b[39;49m\u001b[43m)\u001b[49m\u001b[43m,\u001b[49m\n\u001b[1;32m     10\u001b[0m \u001b[43m                    \u001b[49m\u001b[43mdimension_separator\u001b[49m\u001b[38;5;241;43m=\u001b[39;49m\u001b[38;5;124;43m'\u001b[39;49m\u001b[38;5;124;43m.\u001b[39;49m\u001b[38;5;124;43m'\u001b[39;49m\n\u001b[1;32m     11\u001b[0m \u001b[43m                    \u001b[49m\u001b[43m)\u001b[49m\n",
      "File \u001b[0;32m~/anaconda3/envs/gunpowder/lib/python3.13/site-packages/funlib/persistence/arrays/datasets.py:309\u001b[0m, in \u001b[0;36mprepare_ds\u001b[0;34m(store, shape, offset, voxel_size, axis_names, units, chunk_shape, dtype, mode, **kwargs)\u001b[0m\n\u001b[1;32m    307\u001b[0m \u001b[38;5;66;03m# create the dataset\u001b[39;00m\n\u001b[1;32m    308\u001b[0m \u001b[38;5;28;01mtry\u001b[39;00m:\n\u001b[0;32m--> 309\u001b[0m     ds \u001b[38;5;241m=\u001b[39m zarr\u001b[38;5;241m.\u001b[39mopen_array(\n\u001b[1;32m    310\u001b[0m         store\u001b[38;5;241m=\u001b[39mstore,\n\u001b[1;32m    311\u001b[0m         shape\u001b[38;5;241m=\u001b[39mshape,\n\u001b[1;32m    312\u001b[0m         chunks\u001b[38;5;241m=\u001b[39mchunk_shape,\n\u001b[1;32m    313\u001b[0m         dtype\u001b[38;5;241m=\u001b[39mdtype,\n\u001b[1;32m    314\u001b[0m         dimension_separator\u001b[38;5;241m=\u001b[39m\u001b[38;5;124m\"\u001b[39m\u001b[38;5;124m/\u001b[39m\u001b[38;5;124m\"\u001b[39m,\n\u001b[1;32m    315\u001b[0m         mode\u001b[38;5;241m=\u001b[39mmode,\n\u001b[1;32m    316\u001b[0m         \u001b[38;5;241m*\u001b[39m\u001b[38;5;241m*\u001b[39mkwargs,\n\u001b[1;32m    317\u001b[0m     )\n\u001b[1;32m    318\u001b[0m \u001b[38;5;28;01mexcept\u001b[39;00m zarr\u001b[38;5;241m.\u001b[39merrors\u001b[38;5;241m.\u001b[39mArrayNotFoundError:\n\u001b[1;32m    319\u001b[0m     \u001b[38;5;28;01mraise\u001b[39;00m ArrayNotFoundError(\u001b[38;5;124mf\u001b[39m\u001b[38;5;124m\"\u001b[39m\u001b[38;5;124mNothing found at path \u001b[39m\u001b[38;5;132;01m{\u001b[39;00mstore\u001b[38;5;132;01m}\u001b[39;00m\u001b[38;5;124m\"\u001b[39m)\n",
      "\u001b[0;31mTypeError\u001b[0m: zarr.creation.open_array() got multiple values for keyword argument 'dimension_separator'"
     ]
    }
   ],
   "source": [
    "test_ds = prepare_ds('test.zarr' + '/raw',\n",
    "                    mode='w',\n",
    "                    shape=raw_ds.shape,\n",
    "                    offset=raw_ds.roi.get_begin(),\n",
    "                    voxel_size=voxel_size,\n",
    "                    axis_names=['z', 'y', 'x'],\n",
    "                    units=['nm']*3,\n",
    "                    dtype=np.uint8,\n",
    "                    compressor=Blosc('zlib', clevel=5),\n",
    "                    dimension_separator='.'\n",
    "                    )"
   ]
  },
  {
   "cell_type": "code",
   "execution_count": 46,
   "metadata": {},
   "outputs": [
    {
     "name": "stdout",
     "output_type": "stream",
     "text": [
      "http://localhost:55556/v/ed70a70a1314f8d5df7448ada376592bd096655a/\n"
     ]
    },
    {
     "data": {
      "text/plain": [
       "''"
      ]
     },
     "execution_count": 46,
     "metadata": {},
     "output_type": "execute_result"
    }
   ],
   "source": [
    "from time import sleep\n",
    "\n",
    "port = 55556\n",
    "\n",
    "i = 0\n",
    "\n",
    "# raw, gt = data[i][:2]\n",
    "# print(data[i][2])\n",
    "\n",
    "neuroglancer.set_server_bind_address('0.0.0.0', bind_port=port)\n",
    "dimensions = neuroglancer.CoordinateSpace(names=['z', 'y', 'x'], units='nm', scales=[50, 10, 10])\n",
    "viewer = neuroglancer.Viewer()\n",
    "with viewer.txn() as s:\n",
    "    s.dimensions = dimensions    \n",
    "    s.layers['raw'] = neuroglancer.ImageLayer(source=neuroglancer.LocalVolume(raw, dimensions, ))\n",
    "    s.layers['gt'] = neuroglancer.SegmentationLayer(source=neuroglancer.LocalVolume(gt, dimensions))\n",
    "\n",
    "url = viewer.get_viewer_url()\n",
    "print('http://localhost:' + url.split(':')[-1])\n",
    "\n",
    "sleep(1)\n",
    "\n",
    "input()"
   ]
  },
  {
   "cell_type": "code",
   "execution_count": 14,
   "metadata": {},
   "outputs": [
    {
     "name": "stdout",
     "output_type": "stream",
     "text": [
      "[43150:99450, 36140:121110, 291650:524210] (56300, 84970, 232560)\n"
     ]
    },
    {
     "name": "stderr",
     "output_type": "stream",
     "text": [
      "  0%|          | 0/2 [00:00<?, ?it/s]"
     ]
    },
    {
     "name": "stdout",
     "output_type": "stream",
     "text": [
      "[58336:63414, 82704:87806, 394154:399256] (5078, 5102, 5102)\n"
     ]
    },
    {
     "name": "stderr",
     "output_type": "stream",
     "text": [
      "  0%|          | 0/2 [00:02<?, ?it/s]\n"
     ]
    },
    {
     "ename": "IndexError",
     "evalue": "Requested roi [58336:63414, 82704:87806, 394154:399256] (5078, 5102, 5102) is not contained in this array [58336:63386, 82704:87804, 394154:399254] (5050, 5100, 5100).",
     "output_type": "error",
     "traceback": [
      "\u001b[0;31m---------------------------------------------------------------------------\u001b[0m",
      "\u001b[0;31mIndexError\u001b[0m                                Traceback (most recent call last)",
      "Cell \u001b[0;32mIn[14], line 12\u001b[0m\n\u001b[1;32m      9\u001b[0m roi \u001b[38;5;241m=\u001b[39m ds_gt\u001b[38;5;241m.\u001b[39mroi\u001b[38;5;241m.\u001b[39mgrow(context\u001b[38;5;241m/\u001b[39m\u001b[38;5;241m2\u001b[39m, context\u001b[38;5;241m/\u001b[39m\u001b[38;5;241m2\u001b[39m)\n\u001b[1;32m     10\u001b[0m \u001b[38;5;28mprint\u001b[39m(roi)\n\u001b[0;32m---> 12\u001b[0m raw_d \u001b[38;5;241m=\u001b[39m \u001b[43mraw_ds\u001b[49m\u001b[38;5;241;43m.\u001b[39;49m\u001b[43mto_ndarray\u001b[49m\u001b[43m(\u001b[49m\u001b[43mroi\u001b[49m\u001b[43m,\u001b[49m\u001b[43m \u001b[49m\u001b[43mfill_value\u001b[49m\u001b[38;5;241;43m=\u001b[39;49m\u001b[38;5;241;43m0\u001b[39;49m\u001b[43m)\u001b[49m\n\u001b[1;32m     14\u001b[0m new_raw_ds \u001b[38;5;241m=\u001b[39m prepare_ds(gt_path \u001b[38;5;241m+\u001b[39m \u001b[38;5;124m'\u001b[39m\u001b[38;5;124m/raw\u001b[39m\u001b[38;5;124m'\u001b[39m,\n\u001b[1;32m     15\u001b[0m                         mode\u001b[38;5;241m=\u001b[39m\u001b[38;5;124m'\u001b[39m\u001b[38;5;124mw\u001b[39m\u001b[38;5;124m'\u001b[39m,\n\u001b[1;32m     16\u001b[0m                         shape\u001b[38;5;241m=\u001b[39mraw_d\u001b[38;5;241m.\u001b[39mshape,\n\u001b[0;32m   (...)\u001b[0m\n\u001b[1;32m     21\u001b[0m                         dtype\u001b[38;5;241m=\u001b[39mnp\u001b[38;5;241m.\u001b[39muint8,\n\u001b[1;32m     22\u001b[0m                         compressor\u001b[38;5;241m=\u001b[39mBlosc(\u001b[38;5;124m'\u001b[39m\u001b[38;5;124mzlib\u001b[39m\u001b[38;5;124m'\u001b[39m, clevel\u001b[38;5;241m=\u001b[39m\u001b[38;5;241m5\u001b[39m))\n\u001b[1;32m     23\u001b[0m new_raw_ds[\u001b[38;5;241m.\u001b[39m\u001b[38;5;241m.\u001b[39m\u001b[38;5;241m.\u001b[39m] \u001b[38;5;241m=\u001b[39m raw_d\n",
      "File \u001b[0;32m~/anaconda3/envs/gunpowder/lib/python3.13/site-packages/funlib/persistence/arrays/array.py:349\u001b[0m, in \u001b[0;36mArray.to_ndarray\u001b[0;34m(self, roi, fill_value)\u001b[0m\n\u001b[1;32m    346\u001b[0m shared_roi \u001b[38;5;241m=\u001b[39m \u001b[38;5;28mself\u001b[39m\u001b[38;5;241m.\u001b[39mroi\u001b[38;5;241m.\u001b[39mintersect(roi)\n\u001b[1;32m    348\u001b[0m \u001b[38;5;28;01mif\u001b[39;00m \u001b[38;5;129;01mnot\u001b[39;00m shared_roi\u001b[38;5;241m.\u001b[39mempty:\n\u001b[0;32m--> 349\u001b[0m     \u001b[43marray\u001b[49m\u001b[43m[\u001b[49m\u001b[43mshared_roi\u001b[49m\u001b[43m]\u001b[49m \u001b[38;5;241m=\u001b[39m \u001b[38;5;28mself\u001b[39m[shared_roi]\n\u001b[1;32m    351\u001b[0m \u001b[38;5;28;01mreturn\u001b[39;00m data\n",
      "File \u001b[0;32m~/anaconda3/envs/gunpowder/lib/python3.13/site-packages/funlib/persistence/arrays/array.py:295\u001b[0m, in \u001b[0;36mArray.__setitem__\u001b[0;34m(self, key, value)\u001b[0m\n\u001b[1;32m    292\u001b[0m roi \u001b[38;5;241m=\u001b[39m key\n\u001b[1;32m    294\u001b[0m \u001b[38;5;28;01mif\u001b[39;00m \u001b[38;5;129;01mnot\u001b[39;00m \u001b[38;5;28mself\u001b[39m\u001b[38;5;241m.\u001b[39mroi\u001b[38;5;241m.\u001b[39mcontains(roi):\n\u001b[0;32m--> 295\u001b[0m     \u001b[38;5;28;01mraise\u001b[39;00m \u001b[38;5;167;01mIndexError\u001b[39;00m(\n\u001b[1;32m    296\u001b[0m         \u001b[38;5;124m\"\u001b[39m\u001b[38;5;124mRequested roi \u001b[39m\u001b[38;5;132;01m%s\u001b[39;00m\u001b[38;5;124m is not contained in this array \u001b[39m\u001b[38;5;132;01m%s\u001b[39;00m\u001b[38;5;124m.\u001b[39m\u001b[38;5;124m\"\u001b[39m\n\u001b[1;32m    297\u001b[0m         \u001b[38;5;241m%\u001b[39m (roi, \u001b[38;5;28mself\u001b[39m\u001b[38;5;241m.\u001b[39mroi)\n\u001b[1;32m    298\u001b[0m     )\n\u001b[1;32m    300\u001b[0m region_slices \u001b[38;5;241m=\u001b[39m \u001b[38;5;28mself\u001b[39m\u001b[38;5;241m.\u001b[39m__slices(roi)\n\u001b[1;32m    301\u001b[0m \u001b[38;5;28mself\u001b[39m\u001b[38;5;241m.\u001b[39m_source_data[region_slices] \u001b[38;5;241m=\u001b[39m value\n",
      "\u001b[0;31mIndexError\u001b[0m: Requested roi [58336:63414, 82704:87806, 394154:399256] (5078, 5102, 5102) is not contained in this array [58336:63386, 82704:87804, 394154:399254] (5050, 5100, 5100)."
     ]
    }
   ],
   "source": [
    "from zarr.codecs import Blosc\n",
    "from tqdm import tqdm\n",
    "\n",
    "for dataset, raw_path in raw_data.items():\n",
    "    raw_ds = open_ds(raw_path + '/raw', voxel_size=voxel_size)\n",
    "    print(raw_ds.roi)\n",
    "    for gt_path in tqdm(ground_truth[dataset]):\n",
    "        ds_gt = open_ds(gt_path + '/gt_merged', voxel_size=voxel_size)\n",
    "        roi = ds_gt.roi.grow(context/2, context/2)\n",
    "        print(roi)\n",
    "\n",
    "        raw_d = raw_ds.to_ndarray(roi, fill_value=0)\n",
    "\n",
    "        new_raw_ds = prepare_ds(gt_path + '/raw',\n",
    "                                mode='w',\n",
    "                                shape=raw_d.shape,\n",
    "                                offset=roi.get_begin(),\n",
    "                                voxel_size=voxel_size,\n",
    "                                axis_names=['z', 'y', 'x'],\n",
    "                                units=['nm']*3,\n",
    "                                dtype=np.uint8,\n",
    "                                compressor=Blosc('zlib', clevel=5))\n",
    "        new_raw_ds[...] = raw_d"
   ]
  },
  {
   "cell_type": "code",
   "execution_count": 185,
   "metadata": {},
   "outputs": [
    {
     "name": "stderr",
     "output_type": "stream",
     "text": [
      "100%|██████████| 2/2 [00:06<00:00,  3.04s/it]\n",
      "100%|██████████| 2/2 [00:01<00:00,  1.07it/s]\n",
      "100%|██████████| 1/1 [00:00<00:00,  1.06it/s]\n"
     ]
    }
   ],
   "source": [
    "\n",
    "data = []\n",
    "for dataset, raw_path in raw_data.items():\n",
    "    for gt_path in tqdm(ground_truth[dataset]):\n",
    "        ds_gt = open_ds(gt_path + '/gt_merged', voxel_size=voxel_size)\n",
    "        ds_raw = open_ds(gt_path + '/raw')\n",
    "\n",
    "        data.append((ds_gt.to_ndarray(ds_raw.roi, fill_value=0),\n",
    "                     ds_raw.to_ndarray(ds_raw.roi, fill_value=0)))"
   ]
  },
  {
   "cell_type": "code",
   "execution_count": 188,
   "metadata": {},
   "outputs": [
    {
     "name": "stdout",
     "output_type": "stream",
     "text": [
      "http://localhost:55556/v/91b134f0058ef349abae3fcb97c640f45dfae425/\n"
     ]
    },
    {
     "data": {
      "text/plain": [
       "''"
      ]
     },
     "execution_count": 188,
     "metadata": {},
     "output_type": "execute_result"
    }
   ],
   "source": [
    "from time import sleep\n",
    "\n",
    "port = 55556\n",
    "\n",
    "i = -1\n",
    "data_gt, data_raw = data[i]\n",
    "\n",
    "neuroglancer.set_server_bind_address('0.0.0.0', bind_port=port)\n",
    "dimensions = neuroglancer.CoordinateSpace(names=['z', 'y', 'x'], units='nm', scales=[50, 10, 10])\n",
    "viewer = neuroglancer.Viewer()\n",
    "with viewer.txn() as s:\n",
    "    s.dimensions = dimensions    \n",
    "    s.layers['raw'] = neuroglancer.ImageLayer(source=neuroglancer.LocalVolume(data_raw, dimensions, volume_type='image'))\n",
    "    s.layers['gt'] = neuroglancer.ImageLayer(source=neuroglancer.LocalVolume(data_gt, dimensions, volume_type='segmentation'))\n",
    "\n",
    "url = viewer.get_viewer_url()\n",
    "print('http://localhost:' + url.split(':')[-1])\n",
    "\n",
    "sleep(1)\n",
    "\n",
    "input()"
   ]
  },
  {
   "cell_type": "markdown",
   "metadata": {},
   "source": [
    "# Train"
   ]
  },
  {
   "cell_type": "code",
   "execution_count": 7,
   "metadata": {},
   "outputs": [
    {
     "name": "stderr",
     "output_type": "stream",
     "text": [
      "/home/autoseg/anaconda3/envs/gunpowder/lib/python3.13/site-packages/tqdm/auto.py:21: TqdmWarning: IProgress not found. Please update jupyter and ipywidgets. See https://ipywidgets.readthedocs.io/en/stable/user_install.html\n",
      "  from .autonotebook import tqdm as notebook_tqdm\n"
     ]
    }
   ],
   "source": [
    "import gunpowder as gp"
   ]
  },
  {
   "cell_type": "code",
   "execution_count": 8,
   "metadata": {},
   "outputs": [],
   "source": [
    "input_shape = np.array([36, 124, 124])\n",
    "output_shape = np.array([8, 32, 32])\n",
    "voxel_size = np.array([50, 10, 10])\n",
    "\n",
    "input_size= input_shape * voxel_size\n",
    "output_size= output_shape * voxel_size\n",
    "\n",
    "ground_truth_config = '/mnt/hdd1/SRC/train_v2/ground_truth_config.json'\n",
    "\n",
    "with open(ground_truth_config, 'r') as f:\n",
    "    config = json.load(f)\n",
    "\n",
    "dataset_name = 'megalopta'\n",
    "config = config[dataset_name]"
   ]
  },
  {
   "cell_type": "code",
   "execution_count": 9,
   "metadata": {},
   "outputs": [],
   "source": [
    "ground_truth_data = []\n",
    "\n",
    "dataset = config\n",
    "\n",
    "raw_data = dataset['raw_data']\n",
    "ground_truth = dataset['ground_truth']\n",
    "gt_zarr_dataset = dataset['ground_truth_dataset']\n",
    "\n",
    "for key, ground_truths in ground_truth.items():\n",
    "    raw_path = raw_data[key]\n",
    "    for gt_path in ground_truths:\n",
    "        ground_truth_data.append((raw_path, gt_path, gt_zarr_dataset))"
   ]
  },
  {
   "cell_type": "code",
   "execution_count": 10,
   "metadata": {},
   "outputs": [],
   "source": [
    "import argparse\n",
    "import gunpowder as gp\n",
    "import json\n",
    "import logging\n",
    "import math\n",
    "import os\n",
    "import torch\n",
    "\n",
    "from funlib.learn.torch.models import UNet, ConvPass\n",
    "from lsd.train.gp import AddLocalShapeDescriptor\n",
    "\n",
    "from prep_augments import get_augment_parameters\n",
    "\n",
    "augment_config = get_augment_parameters(None, return_config=True)\n",
    "\n",
    "elastic_spacing     = augment_config['elastic_spacing']\n",
    "elastic_jitter      = augment_config['elastic_jitter']\n",
    "prob_elastic        = augment_config['prob_elastic']\n",
    "intensity_scmin     = augment_config['intensity_scmin']\n",
    "intensity_scmax     = augment_config['intensity_scmax']\n",
    "intensity_shmin     = augment_config['intensity_shmin']\n",
    "intensity_shmax     = augment_config['intensity_shmax']\n",
    "prob_noise          = augment_config['prob_noise']\n",
    "prob_missing        = augment_config['prob_missing']\n",
    "prob_low_contrast   = augment_config['prob_low_contrast']\n",
    "prob_deform         = augment_config['prob_deform']"
   ]
  },
  {
   "cell_type": "code",
   "execution_count": 11,
   "metadata": {},
   "outputs": [],
   "source": [
    "raw = gp.ArrayKey('RAW')\n",
    "seg = gp.ArrayKey('SEGMENTATION')\n",
    "affs = gp.ArrayKey('AFFINITIES')\n",
    "pred_affs = gp.ArrayKey('PRED_AFFINITIES')\n",
    "lsds = gp.ArrayKey('LSDS')\n",
    "pred_lsds = gp.ArrayKey('PRED_LSDS')\n",
    "affs_weights = gp.ArrayKey('AFFS_WEIGHTS')"
   ]
  },
  {
   "cell_type": "code",
   "execution_count": 12,
   "metadata": {},
   "outputs": [],
   "source": [
    "sources = [(gp.ZarrSource(store=gt[1],\n",
    "                              datasets={seg: gt[2]},\n",
    "                              array_specs={seg: gp.ArraySpec(interpolatable=False, voxel_size=voxel_size)}),\n",
    "                gp.ZarrSource(store=gt[0],\n",
    "                              datasets={raw: 'raw'},\n",
    "                              array_specs={raw: gp.ArraySpec(interpolatable=True, voxel_size=voxel_size)})\n",
    "               ) +\n",
    "                gp.MergeProvider() +\n",
    "                gp.RandomLocation()\n",
    "              for gt in ground_truth_data]\n",
    "\n",
    "pipeline = tuple(sources) + gp.RandomProvider()  \n",
    "\n",
    "# Normalize raw greyscale data\n",
    "pipeline += gp.Normalize(raw)\n",
    "\n",
    "# Augmentations\n",
    "pipeline += gp.DeformAugment(control_point_spacing=gp.Coordinate(elastic_spacing),\n",
    "                                jitter_sigma=gp.Coordinate(elastic_jitter),\n",
    "                                subsample=8,\n",
    "                                p=prob_elastic,\n",
    "                                rotate=False)\n",
    "pipeline += gp.SimpleAugment(transpose_only=[1, 2])  # transposes in dimensions [0, 1, 2]\n",
    "pipeline += gp.IntensityAugment(raw, \n",
    "                                intensity_scmin, \n",
    "                                intensity_scmax, \n",
    "                                intensity_shmin,\n",
    "                                intensity_shmax, \n",
    "                                z_section_wise=True)\n",
    "pipeline += gp.NoiseAugment(raw, \n",
    "                            p=prob_noise)  # change var if noise is too extreme here (variance of std dev)\n",
    "pipeline += gp.DefectAugment(raw, \n",
    "                                prob_missing=prob_missing,\n",
    "                                prob_low_contrast=prob_low_contrast,\n",
    "                                prob_deform=0)\n",
    "\n",
    "# Create affinities\n",
    "pipeline += gp.AddAffinities([[-1, 0, 0], [0, -1, 0], [0, 0, -1]],\n",
    "                                seg,\n",
    "                                affs,\n",
    "                                dtype='float32')\n",
    "pipeline += gp.BalanceLabels(affs, \n",
    "                                affs_weights)\n",
    "\n",
    "# Add local shape descriptors\n",
    "pipeline += AddLocalShapeDescriptor(seg, \n",
    "                                    lsds, \n",
    "                                    sigma=60.0)\n",
    "\n",
    "# we have:\n",
    "# raw:  (d, h, w)\n",
    "# affs: (3, d, h, w)\n",
    "# lsds: (10, d, h, w)\n",
    "\n",
    "# what torch wants:\n",
    "# raw:  (b=1, c=1, d, h, w)\n",
    "# affs: (b=1, c=3, d, h, w)\n",
    "# lsds: (b=1, c=10, d, h, w)\n",
    "\n",
    "pipeline += gp.Unsqueeze([raw]) # add a dim to raw\n",
    "\n",
    "# we have:\n",
    "# raw:  (1, d, h, w)\n",
    "# affs: (3, d, h, w)\n",
    "# lsds: (10, d, h, w)\n",
    "\n",
    "pipeline += gp.Stack(1)\n",
    "\n",
    "# we have:\n",
    "# raw:  (1, 1, d, h, w)\n",
    "# affs: (1, 3, d, h, w)\n",
    "# lsds: (1, 10, d, h, w)\n",
    "\n",
    "# pipeline += gp.PreCache(num_workers=num_workers)     # pre-load batchs, increases speed\n",
    "\n",
    "# pipeline += gp.torch.Train(\n",
    "#     model,\n",
    "#     loss,\n",
    "#     optimizer,\n",
    "#     inputs={\n",
    "#         'input': raw\n",
    "#     },\n",
    "#     outputs={\n",
    "#         0: pred_affs,\n",
    "#         1: pred_lsds\n",
    "#     },\n",
    "#     loss_inputs={\n",
    "#         'pred_affs': pred_affs,\n",
    "#         'affs': affs,\n",
    "#         'affs_weights': affs_weights,\n",
    "#         'pred_lsds': pred_lsds,\n",
    "#         'lsds': lsds\n",
    "#     },\n",
    "#     checkpoint_basename = f'{project_dir}/model',\n",
    "#     save_every=save_every)\n",
    "\n",
    "pipeline += gp.Squeeze([raw])           # re-squeeze arrays to have n dim fitting snapshot node\n",
    "pipeline += gp.Squeeze([raw, \n",
    "                        seg,\n",
    "                        affs, \n",
    "                        # pred_affs,\n",
    "                        lsds,\n",
    "                        # pred_lsds\n",
    "                        ])\n",
    "\n",
    "# pipeline += gp.Snapshot({\n",
    "#                             raw: 'raw',\n",
    "#                             seg: 'gt_seg',\n",
    "#                             affs: 'affs',\n",
    "#                             # pred_affs: 'pred_affs',\n",
    "#                             lsds: 'lsds',\n",
    "#                             # pred_lsds: 'pred_lsds',\n",
    "#                         },\n",
    "#                         output_dir = 'test/snapshots',\n",
    "#                         every=1) "
   ]
  },
  {
   "cell_type": "code",
   "execution_count": 13,
   "metadata": {},
   "outputs": [],
   "source": [
    "request = gp.BatchRequest()\n",
    "request.add(raw, input_size)\n",
    "request.add(affs, output_size)\n",
    "request.add(seg, output_size)\n",
    "request.add(affs_weights, output_size)\n",
    "request.add(lsds, output_size)"
   ]
  },
  {
   "cell_type": "code",
   "execution_count": 14,
   "metadata": {},
   "outputs": [],
   "source": [
    "with gp.build(pipeline):\n",
    "    batch = pipeline.request_batch(request)"
   ]
  },
  {
   "cell_type": "code",
   "execution_count": 23,
   "metadata": {},
   "outputs": [],
   "source": [
    "roi = request.get_common_roi()"
   ]
  },
  {
   "cell_type": "code",
   "execution_count": 33,
   "metadata": {},
   "outputs": [
    {
     "name": "stdout",
     "output_type": "stream",
     "text": [
      "\u001b[0;31mSignature:\u001b[0m \u001b[0mbatch\u001b[0m\u001b[0;34m.\u001b[0m\u001b[0mcrop\u001b[0m\u001b[0;34m(\u001b[0m\u001b[0mrequest\u001b[0m\u001b[0;34m,\u001b[0m \u001b[0mcopy\u001b[0m\u001b[0;34m=\u001b[0m\u001b[0;32mFalse\u001b[0m\u001b[0;34m)\u001b[0m\u001b[0;34m\u001b[0m\u001b[0;34m\u001b[0m\u001b[0m\n",
      "\u001b[0;31mDocstring:\u001b[0m Crop batch to meet the given request.\n",
      "\u001b[0;31mFile:\u001b[0m      ~/anaconda3/envs/gunpowder/lib/python3.13/site-packages/gunpowder/batch.py\n",
      "\u001b[0;31mType:\u001b[0m      method"
     ]
    }
   ],
   "source": [
    "batch.crop?"
   ]
  },
  {
   "cell_type": "code",
   "execution_count": 43,
   "metadata": {},
   "outputs": [
    {
     "data": {
      "text/plain": [
       "array([[[355, 355, 355, ..., 355, 355, 355],\n",
       "        [355, 355, 355, ..., 355, 355, 355],\n",
       "        [355, 355, 355, ..., 355, 355, 355],\n",
       "        ...,\n",
       "        [ 88,  88,  88, ...,   0,   0,   0],\n",
       "        [ 88,  88,  88, ...,   0,   0,   0],\n",
       "        [ 88,  88,  88, ...,   0,   0, 106]],\n",
       "\n",
       "       [[355, 355, 355, ..., 355, 355, 355],\n",
       "        [355, 355, 355, ..., 355, 355, 355],\n",
       "        [355, 355, 355, ..., 355, 355, 355],\n",
       "        ...,\n",
       "        [  0,   0,   0, ..., 106, 106, 106],\n",
       "        [ 88,  88,  88, ..., 106, 106, 106],\n",
       "        [ 88,  88,  88, ..., 106, 106, 106]],\n",
       "\n",
       "       [[355, 355, 355, ..., 355, 355, 355],\n",
       "        [355, 355, 355, ..., 355, 355, 355],\n",
       "        [355, 355, 355, ..., 355, 355, 355],\n",
       "        ...,\n",
       "        [  0,   0,   0, ...,   0,   0,   0],\n",
       "        [  0,   0,   0, ...,   0,   0,   0],\n",
       "        [  0,   0,   0, ...,   0,   0,   0]],\n",
       "\n",
       "       ...,\n",
       "\n",
       "       [[103, 103, 103, ..., 103, 410, 410],\n",
       "        [103, 103, 103, ..., 103, 103, 103],\n",
       "        [103, 103, 103, ..., 103, 103, 103],\n",
       "        ...,\n",
       "        [  4,   4,   4, ...,   4,   4,   4],\n",
       "        [  4,   4,   4, ...,   4,   4,   4],\n",
       "        [  4,   4,   4, ...,   4,   4,   4]],\n",
       "\n",
       "       [[  0, 103, 103, ..., 103, 103, 103],\n",
       "        [  0, 103, 103, ..., 103, 103, 103],\n",
       "        [103, 103, 103, ..., 103, 103, 103],\n",
       "        ...,\n",
       "        [  4,   4,   4, ...,   4,   4,   4],\n",
       "        [  4,   4,   4, ...,   4,   4,   4],\n",
       "        [  4,   4,   4, ...,   4,   4,   4]],\n",
       "\n",
       "       [[103, 103, 103, ..., 103, 103, 103],\n",
       "        [103, 103, 103, ..., 103, 103, 103],\n",
       "        [103, 103, 103, ..., 103, 103, 103],\n",
       "        ...,\n",
       "        [  4,   4,   4, ...,   4,   4,   4],\n",
       "        [  4,   4,   4, ...,   4,   4,   4],\n",
       "        [  4,   4,   4, ...,   4,   4,   4]]], dtype=uint64)"
      ]
     },
     "execution_count": 43,
     "metadata": {},
     "output_type": "execute_result"
    }
   ],
   "source": [
    "batch.arrays[seg].crop(roi).data"
   ]
  },
  {
   "cell_type": "code",
   "execution_count": 116,
   "metadata": {},
   "outputs": [
    {
     "data": {
      "text/plain": [
       "array([[[0.5193013 , 0.4990458 , 0.47617292, ..., 0.56973   ,\n",
       "         0.54684114, 0.53150666],\n",
       "        [0.52401006, 0.5013709 , 0.47559512, ..., 0.5922822 ,\n",
       "         0.55558723, 0.5191526 ],\n",
       "        [0.5478776 , 0.5253923 , 0.49498838, ..., 0.58264065,\n",
       "         0.5429618 , 0.49962324],\n",
       "        ...,\n",
       "        [0.26481038, 0.276654  , 0.28070545, ..., 0.4643803 ,\n",
       "         0.44435284, 0.43652835],\n",
       "        [0.25882116, 0.26227587, 0.25080162, ..., 0.49454033,\n",
       "         0.47779834, 0.48084497],\n",
       "        [0.3060006 , 0.29729217, 0.27448627, ..., 0.49062318,\n",
       "         0.49643004, 0.520041  ]],\n",
       "\n",
       "       [[0.49021706, 0.49801138, 0.47721097, ..., 0.46487978,\n",
       "         0.42965212, 0.37762603],\n",
       "        [0.48527637, 0.47167674, 0.45335397, ..., 0.4890447 ,\n",
       "         0.4695846 , 0.42352465],\n",
       "        [0.47018883, 0.44139692, 0.43011412, ..., 0.48674867,\n",
       "         0.46233836, 0.4348434 ],\n",
       "        ...,\n",
       "        [0.36164626, 0.35187608, 0.33750144, ..., 0.3919563 ,\n",
       "         0.37966028, 0.34671625],\n",
       "        [0.41744062, 0.40020803, 0.37804064, ..., 0.36390877,\n",
       "         0.34850705, 0.30791298],\n",
       "        [0.41966906, 0.40988842, 0.38942304, ..., 0.32443586,\n",
       "         0.29309353, 0.24563113]],\n",
       "\n",
       "       [[0.        , 0.        , 0.        , ..., 0.        ,\n",
       "         0.        , 0.        ],\n",
       "        [0.        , 0.        , 0.        , ..., 0.        ,\n",
       "         0.        , 0.        ],\n",
       "        [0.        , 0.        , 0.        , ..., 0.        ,\n",
       "         0.        , 0.        ],\n",
       "        ...,\n",
       "        [0.        , 0.        , 0.        , ..., 0.        ,\n",
       "         0.        , 0.        ],\n",
       "        [0.        , 0.        , 0.        , ..., 0.        ,\n",
       "         0.        , 0.        ],\n",
       "        [0.        , 0.        , 0.        , ..., 0.        ,\n",
       "         0.        , 0.        ]],\n",
       "\n",
       "       ...,\n",
       "\n",
       "       [[0.36939037, 0.40840596, 0.41136652, ..., 0.26555938,\n",
       "         0.19907732, 0.1429352 ],\n",
       "        [0.36012024, 0.3987648 , 0.4048996 , ..., 0.27350825,\n",
       "         0.21493383, 0.15810598],\n",
       "        [0.37895226, 0.40949434, 0.41868365, ..., 0.29829872,\n",
       "         0.25480926, 0.21118902],\n",
       "        ...,\n",
       "        [0.16012958, 0.21043853, 0.24160273, ..., 0.19284745,\n",
       "         0.20766477, 0.21084027],\n",
       "        [0.14871342, 0.1902424 , 0.22495131, ..., 0.19196011,\n",
       "         0.21159203, 0.21264194],\n",
       "        [0.1599554 , 0.18538795, 0.21465583, ..., 0.1800424 ,\n",
       "         0.19912238, 0.20811142]],\n",
       "\n",
       "       [[0.1908102 , 0.20824414, 0.24922365, ..., 0.16753155,\n",
       "         0.1480267 , 0.1416124 ],\n",
       "        [0.24035272, 0.25630885, 0.30223897, ..., 0.18932718,\n",
       "         0.16428405, 0.14604662],\n",
       "        [0.2949659 , 0.31249952, 0.36626673, ..., 0.23832846,\n",
       "         0.20049071, 0.18247354],\n",
       "        ...,\n",
       "        [0.26202726, 0.24640396, 0.23687235, ..., 0.20334694,\n",
       "         0.2112369 , 0.20521852],\n",
       "        [0.256436  , 0.24437332, 0.23142824, ..., 0.21217966,\n",
       "         0.20984173, 0.19042641],\n",
       "        [0.2579959 , 0.24873304, 0.22547436, ..., 0.23351341,\n",
       "         0.21157378, 0.18232316]],\n",
       "\n",
       "       [[0.3664123 , 0.3543136 , 0.35548386, ..., 0.3901977 ,\n",
       "         0.3796553 , 0.40784076],\n",
       "        [0.38705155, 0.38492277, 0.38552612, ..., 0.4298643 ,\n",
       "         0.42412168, 0.463785  ],\n",
       "        [0.40057087, 0.4058838 , 0.4007124 , ..., 0.46377516,\n",
       "         0.4532426 , 0.49377212],\n",
       "        ...,\n",
       "        [0.34669355, 0.36345452, 0.38691753, ..., 0.46717954,\n",
       "         0.48988006, 0.5022737 ],\n",
       "        [0.3531683 , 0.3620486 , 0.3789332 , ..., 0.46823725,\n",
       "         0.47187117, 0.47375843],\n",
       "        [0.3554605 , 0.35903305, 0.37109008, ..., 0.48157787,\n",
       "         0.46969643, 0.45974955]]], dtype=float32)"
      ]
     },
     "execution_count": 116,
     "metadata": {},
     "output_type": "execute_result"
    }
   ],
   "source": [
    "list(batch.arrays.items())[0][1]"
   ]
  },
  {
   "cell_type": "code",
   "execution_count": 218,
   "metadata": {},
   "outputs": [],
   "source": [
    "z = zarr.open('/mnt/hdd2/DATA/ground_truth/eciton/gt1_722_757_labels_corrected.zarr')"
   ]
  },
  {
   "cell_type": "code",
   "execution_count": 219,
   "metadata": {},
   "outputs": [
    {
     "data": {
      "text/plain": [
       "<zarr.hierarchy.Group '/'>"
      ]
     },
     "execution_count": 219,
     "metadata": {},
     "output_type": "execute_result"
    }
   ],
   "source": [
    "z"
   ]
  },
  {
   "cell_type": "code",
   "execution_count": 183,
   "metadata": {},
   "outputs": [],
   "source": [
    "ds = open_ds('/mnt/hdd2/DATA/ground_truth/eciton/gt1_722_757_labels_corrected.zarr/gt')"
   ]
  },
  {
   "cell_type": "code",
   "execution_count": 184,
   "metadata": {},
   "outputs": [
    {
     "data": {
      "text/plain": [
       "array([[[ 5,  5,  5, ...,  1,  1,  1],\n",
       "        [ 5,  5,  5, ...,  1,  1,  1],\n",
       "        [ 5,  5,  5, ...,  1,  1,  1],\n",
       "        ...,\n",
       "        [18, 18, 18, ...,  1,  1,  1],\n",
       "        [18, 18, 18, ...,  1,  1,  1],\n",
       "        [18, 18, 18, ...,  1,  1,  1]],\n",
       "\n",
       "       [[ 5,  5,  5, ...,  1,  1,  1],\n",
       "        [ 5,  5,  5, ...,  1,  1,  1],\n",
       "        [ 5,  5,  5, ...,  1,  1,  1],\n",
       "        ...,\n",
       "        [18, 18, 18, ...,  1,  1,  1],\n",
       "        [18, 18, 18, ...,  1,  1,  1],\n",
       "        [18, 18, 18, ...,  1,  1,  1]],\n",
       "\n",
       "       [[ 5,  5,  5, ...,  1,  1,  1],\n",
       "        [ 5,  5,  5, ...,  1,  1,  1],\n",
       "        [ 5,  5,  5, ...,  1,  1,  1],\n",
       "        ...,\n",
       "        [18, 18, 18, ...,  1,  1,  1],\n",
       "        [18, 18, 18, ...,  1,  1,  1],\n",
       "        [18, 18, 18, ...,  1,  1,  1]],\n",
       "\n",
       "       ...,\n",
       "\n",
       "       [[20, 20, 20, ..., 15, 15, 15],\n",
       "        [20, 20, 20, ..., 15, 15, 15],\n",
       "        [20, 20, 20, ..., 15, 15, 15],\n",
       "        ...,\n",
       "        [17, 17, 17, ...,  0, 16, 16],\n",
       "        [17, 17, 17, ...,  0, 16, 16],\n",
       "        [17, 17, 17, ..., 16, 16, 16]],\n",
       "\n",
       "       [[20, 20, 20, ..., 15, 15, 15],\n",
       "        [20, 20, 20, ..., 15, 15, 15],\n",
       "        [20, 20, 20, ..., 15, 15, 15],\n",
       "        ...,\n",
       "        [17, 17, 17, ...,  0,  0,  0],\n",
       "        [17, 17, 17, ...,  0,  0,  0],\n",
       "        [17, 17, 17, ...,  0,  0,  0]],\n",
       "\n",
       "       [[20, 20, 20, ..., 15, 15, 15],\n",
       "        [20, 20, 20, ..., 15, 15, 15],\n",
       "        [20, 20, 20, ..., 15, 15, 15],\n",
       "        ...,\n",
       "        [ 0, 17, 17, ...,  0,  0,  0],\n",
       "        [17, 17, 17, ...,  0,  0,  0],\n",
       "        [17, 17, 17, ...,  0,  0,  0]]], dtype=uint64)"
      ]
     },
     "execution_count": 184,
     "metadata": {},
     "output_type": "execute_result"
    }
   ],
   "source": [
    "np.array(ds.data)"
   ]
  },
  {
   "cell_type": "code",
   "execution_count": 169,
   "metadata": {},
   "outputs": [
    {
     "data": {
      "text/plain": [
       "array([[[[1., 1., 1., ..., 0., 0., 0.],\n",
       "         [1., 1., 1., ..., 0., 0., 0.],\n",
       "         [1., 1., 1., ..., 0., 0., 0.],\n",
       "         ...,\n",
       "         [1., 1., 1., ..., 0., 0., 0.],\n",
       "         [1., 1., 1., ..., 0., 0., 0.],\n",
       "         [1., 1., 1., ..., 0., 0., 0.]],\n",
       "\n",
       "        [[1., 1., 1., ..., 0., 0., 0.],\n",
       "         [1., 1., 1., ..., 0., 0., 0.],\n",
       "         [1., 1., 1., ..., 0., 0., 0.],\n",
       "         ...,\n",
       "         [1., 1., 1., ..., 0., 0., 0.],\n",
       "         [1., 1., 1., ..., 0., 0., 0.],\n",
       "         [1., 1., 1., ..., 0., 1., 1.]],\n",
       "\n",
       "        [[1., 1., 1., ..., 0., 0., 0.],\n",
       "         [1., 1., 1., ..., 0., 0., 0.],\n",
       "         [1., 1., 1., ..., 0., 0., 0.],\n",
       "         ...,\n",
       "         [0., 0., 0., ..., 1., 1., 1.],\n",
       "         [0., 0., 0., ..., 1., 1., 1.],\n",
       "         [0., 0., 0., ..., 1., 1., 1.]],\n",
       "\n",
       "        ...,\n",
       "\n",
       "        [[1., 1., 1., ..., 0., 0., 0.],\n",
       "         [1., 1., 1., ..., 0., 0., 0.],\n",
       "         [1., 1., 1., ..., 0., 0., 0.],\n",
       "         ...,\n",
       "         [0., 0., 0., ..., 1., 1., 1.],\n",
       "         [0., 0., 0., ..., 1., 1., 1.],\n",
       "         [0., 0., 0., ..., 1., 1., 1.]],\n",
       "\n",
       "        [[0., 0., 0., ..., 1., 1., 1.],\n",
       "         [0., 0., 0., ..., 1., 1., 1.],\n",
       "         [0., 0., 0., ..., 1., 1., 1.],\n",
       "         ...,\n",
       "         [1., 1., 1., ..., 1., 1., 1.],\n",
       "         [1., 1., 1., ..., 1., 1., 1.],\n",
       "         [1., 1., 1., ..., 1., 1., 1.]],\n",
       "\n",
       "        [[0., 0., 0., ..., 1., 1., 1.],\n",
       "         [0., 0., 0., ..., 1., 1., 1.],\n",
       "         [0., 0., 0., ..., 1., 1., 1.],\n",
       "         ...,\n",
       "         [1., 1., 1., ..., 1., 1., 1.],\n",
       "         [1., 1., 1., ..., 1., 1., 1.],\n",
       "         [1., 1., 1., ..., 1., 1., 1.]]],\n",
       "\n",
       "\n",
       "       [[[1., 1., 1., ..., 0., 0., 0.],\n",
       "         [1., 1., 1., ..., 0., 0., 0.],\n",
       "         [1., 1., 1., ..., 0., 0., 0.],\n",
       "         ...,\n",
       "         [1., 1., 1., ..., 0., 0., 0.],\n",
       "         [1., 1., 1., ..., 0., 0., 0.],\n",
       "         [1., 1., 1., ..., 0., 0., 0.]],\n",
       "\n",
       "        [[1., 1., 1., ..., 0., 0., 0.],\n",
       "         [1., 1., 1., ..., 0., 0., 0.],\n",
       "         [1., 1., 1., ..., 0., 0., 0.],\n",
       "         ...,\n",
       "         [1., 1., 1., ..., 1., 1., 1.],\n",
       "         [1., 1., 1., ..., 1., 1., 1.],\n",
       "         [1., 1., 1., ..., 1., 1., 1.]],\n",
       "\n",
       "        [[1., 1., 1., ..., 0., 0., 0.],\n",
       "         [1., 1., 1., ..., 0., 0., 0.],\n",
       "         [1., 1., 1., ..., 0., 0., 0.],\n",
       "         ...,\n",
       "         [0., 0., 0., ..., 1., 1., 1.],\n",
       "         [0., 0., 0., ..., 1., 1., 1.],\n",
       "         [0., 0., 0., ..., 1., 1., 1.]],\n",
       "\n",
       "        ...,\n",
       "\n",
       "        [[1., 1., 1., ..., 1., 1., 1.],\n",
       "         [1., 1., 1., ..., 1., 1., 1.],\n",
       "         [1., 1., 1., ..., 1., 1., 1.],\n",
       "         ...,\n",
       "         [1., 1., 1., ..., 1., 1., 1.],\n",
       "         [1., 1., 1., ..., 1., 1., 1.],\n",
       "         [1., 1., 1., ..., 1., 1., 1.]],\n",
       "\n",
       "        [[0., 0., 0., ..., 1., 1., 1.],\n",
       "         [0., 0., 0., ..., 1., 1., 1.],\n",
       "         [0., 0., 0., ..., 1., 1., 1.],\n",
       "         ...,\n",
       "         [1., 1., 1., ..., 1., 1., 1.],\n",
       "         [1., 1., 1., ..., 1., 1., 1.],\n",
       "         [1., 1., 1., ..., 1., 1., 1.]],\n",
       "\n",
       "        [[0., 0., 0., ..., 1., 1., 1.],\n",
       "         [0., 0., 0., ..., 1., 1., 1.],\n",
       "         [0., 0., 0., ..., 1., 1., 1.],\n",
       "         ...,\n",
       "         [1., 1., 1., ..., 1., 1., 1.],\n",
       "         [1., 1., 1., ..., 1., 1., 1.],\n",
       "         [1., 1., 1., ..., 1., 1., 1.]]],\n",
       "\n",
       "\n",
       "       [[[1., 1., 1., ..., 0., 0., 0.],\n",
       "         [1., 1., 1., ..., 0., 0., 0.],\n",
       "         [1., 1., 1., ..., 0., 0., 0.],\n",
       "         ...,\n",
       "         [1., 1., 1., ..., 0., 0., 0.],\n",
       "         [1., 1., 1., ..., 0., 0., 0.],\n",
       "         [1., 1., 1., ..., 0., 0., 1.]],\n",
       "\n",
       "        [[1., 1., 1., ..., 0., 0., 0.],\n",
       "         [1., 1., 1., ..., 0., 0., 0.],\n",
       "         [1., 1., 1., ..., 0., 0., 0.],\n",
       "         ...,\n",
       "         [1., 1., 1., ..., 1., 1., 1.],\n",
       "         [1., 1., 1., ..., 1., 1., 1.],\n",
       "         [1., 1., 1., ..., 1., 1., 1.]],\n",
       "\n",
       "        [[1., 1., 1., ..., 0., 0., 0.],\n",
       "         [1., 1., 1., ..., 0., 0., 0.],\n",
       "         [1., 1., 1., ..., 0., 0., 0.],\n",
       "         ...,\n",
       "         [0., 0., 0., ..., 1., 1., 1.],\n",
       "         [0., 0., 0., ..., 1., 1., 1.],\n",
       "         [0., 0., 0., ..., 1., 1., 1.]],\n",
       "\n",
       "        ...,\n",
       "\n",
       "        [[1., 1., 1., ..., 1., 1., 1.],\n",
       "         [1., 1., 1., ..., 1., 1., 1.],\n",
       "         [1., 1., 1., ..., 1., 1., 1.],\n",
       "         ...,\n",
       "         [1., 1., 1., ..., 1., 1., 1.],\n",
       "         [1., 1., 1., ..., 1., 1., 1.],\n",
       "         [1., 1., 1., ..., 1., 1., 1.]],\n",
       "\n",
       "        [[0., 0., 0., ..., 1., 1., 1.],\n",
       "         [0., 0., 0., ..., 1., 1., 1.],\n",
       "         [0., 0., 0., ..., 1., 1., 1.],\n",
       "         ...,\n",
       "         [1., 1., 1., ..., 1., 1., 1.],\n",
       "         [1., 1., 1., ..., 1., 1., 1.],\n",
       "         [1., 1., 1., ..., 1., 1., 1.]],\n",
       "\n",
       "        [[0., 0., 0., ..., 1., 1., 1.],\n",
       "         [0., 0., 0., ..., 1., 1., 1.],\n",
       "         [0., 0., 0., ..., 1., 1., 1.],\n",
       "         ...,\n",
       "         [1., 1., 1., ..., 1., 1., 1.],\n",
       "         [1., 1., 1., ..., 1., 1., 1.],\n",
       "         [1., 1., 1., ..., 1., 1., 1.]]]], dtype=float32)"
      ]
     },
     "execution_count": 169,
     "metadata": {},
     "output_type": "execute_result"
    }
   ],
   "source": [
    "batch[affs].data"
   ]
  },
  {
   "cell_type": "code",
   "execution_count": 112,
   "metadata": {},
   "outputs": [
    {
     "data": {
      "text/plain": [
       "((ZarrSource[/mnt/hdd2/DATA/ground_truth/megalopta/PB4_merged.zarr], ZarrSource[/mnt/hdd2/DATA/ground_truth/megalopta/PB4_merged.zarr]) -> MergeProvider -> RandomLocation, (ZarrSource[/mnt/hdd2/DATA/ground_truth/megalopta/FB5_merged.zarr], ZarrSource[/mnt/hdd2/DATA/ground_truth/megalopta/FB5_merged.zarr]) -> MergeProvider -> RandomLocation, (ZarrSource[/mnt/hdd2/DATA/ground_truth/megalopta/EB6_merged.zarr], ZarrSource[/mnt/hdd2/DATA/ground_truth/megalopta/EB6_merged.zarr]) -> MergeProvider -> RandomLocation, (ZarrSource[/mnt/hdd2/DATA/ground_truth/megalopta/NO1_merged.zarr], ZarrSource[/mnt/hdd2/DATA/ground_truth/megalopta/NO1_merged.zarr]) -> MergeProvider -> RandomLocation) -> RandomProvider"
      ]
     },
     "execution_count": 112,
     "metadata": {},
     "output_type": "execute_result"
    }
   ],
   "source": [
    "pipeline"
   ]
  },
  {
   "cell_type": "code",
   "execution_count": 1,
   "metadata": {},
   "outputs": [],
   "source": [
    "import comet_ml"
   ]
  },
  {
   "cell_type": "code",
   "execution_count": null,
   "metadata": {},
   "outputs": [],
   "source": [
    "exp = comet_ml.ExperimentConfig"
   ]
  },
  {
   "cell_type": "code",
   "execution_count": 9,
   "metadata": {},
   "outputs": [
    {
     "ename": "TypeError",
     "evalue": "start() got an unexpected keyword argument 'name'",
     "output_type": "error",
     "traceback": [
      "\u001b[0;31m---------------------------------------------------------------------------\u001b[0m",
      "\u001b[0;31mTypeError\u001b[0m                                 Traceback (most recent call last)",
      "Cell \u001b[0;32mIn[9], line 1\u001b[0m\n\u001b[0;32m----> 1\u001b[0m exp \u001b[38;5;241m=\u001b[39m \u001b[43mcomet_ml\u001b[49m\u001b[38;5;241;43m.\u001b[39;49m\u001b[43mstart\u001b[49m\u001b[43m(\u001b[49m\u001b[43mproject\u001b[49m\u001b[38;5;241;43m=\u001b[39;49m\u001b[38;5;124;43m'\u001b[39;49m\u001b[38;5;124;43mtest\u001b[39;49m\u001b[38;5;124;43m'\u001b[39;49m\u001b[43m,\u001b[49m\u001b[43m \u001b[49m\n\u001b[1;32m      2\u001b[0m \u001b[43m                     \u001b[49m\u001b[43mproject_name\u001b[49m\u001b[38;5;241;43m=\u001b[39;49m\u001b[38;5;124;43m'\u001b[39;49m\u001b[38;5;124;43mtest\u001b[39;49m\u001b[38;5;124;43m'\u001b[39;49m\u001b[43m,\u001b[49m\n\u001b[1;32m      3\u001b[0m \u001b[43m                     \u001b[49m\u001b[43mapi_key\u001b[49m\u001b[38;5;241;43m=\u001b[39;49m\u001b[38;5;124;43m'\u001b[39;49m\u001b[38;5;124;43mQXqfZFobuT8bS4mBSU5qiQmQK\u001b[39;49m\u001b[38;5;124;43m'\u001b[39;49m\u001b[43m,\u001b[49m\n\u001b[1;32m      4\u001b[0m \u001b[43m                     \u001b[49m\u001b[43mname\u001b[49m\u001b[38;5;241;43m=\u001b[39;49m\u001b[38;5;124;43m'\u001b[39;49m\u001b[38;5;124;43mtest_name_0\u001b[39;49m\u001b[38;5;124;43m'\u001b[39;49m\u001b[43m)\u001b[49m\n",
      "\u001b[0;31mTypeError\u001b[0m: start() got an unexpected keyword argument 'name'"
     ]
    }
   ],
   "source": [
    "exp = comet_ml.start(project='test', \n",
    "                     project_name='test',\n",
    "                     api_key='QXqfZFobuT8bS4mBSU5qiQmQK',\n",
    "                     name='test_name_0')"
   ]
  },
  {
   "cell_type": "code",
   "execution_count": 7,
   "metadata": {},
   "outputs": [],
   "source": [
    "exp.set_name('test_name')"
   ]
  },
  {
   "cell_type": "code",
   "execution_count": 2,
   "metadata": {},
   "outputs": [],
   "source": [
    "exp = comet_ml.get_running_experiment()"
   ]
  },
  {
   "cell_type": "code",
   "execution_count": null,
   "metadata": {},
   "outputs": [
    {
     "data": {
      "text/plain": [
       "True"
      ]
     },
     "execution_count": 4,
     "metadata": {},
     "output_type": "execute_result"
    }
   ],
   "source": []
  },
  {
   "cell_type": "code",
   "execution_count": 10,
   "metadata": {},
   "outputs": [],
   "source": [
    "exp.end()"
   ]
  },
  {
   "cell_type": "code",
   "execution_count": 156,
   "metadata": {},
   "outputs": [],
   "source": [
    "f= open('/mnt/hdd1/SRC/train_v2/test_project_0/.comet_exp_key', 'r')"
   ]
  },
  {
   "cell_type": "code",
   "execution_count": 174,
   "metadata": {},
   "outputs": [],
   "source": [
    "from funlib.segment.arrays import relabel"
   ]
  },
  {
   "cell_type": "code",
   "execution_count": 188,
   "metadata": {},
   "outputs": [
    {
     "data": {
      "text/plain": [
       "(10, 8, 32, 32)"
      ]
     },
     "execution_count": 188,
     "metadata": {},
     "output_type": "execute_result"
    }
   ],
   "source": [
    "batch[lsds].data.shape"
   ]
  },
  {
   "cell_type": "code",
   "execution_count": 186,
   "metadata": {},
   "outputs": [
    {
     "data": {
      "text/plain": [
       "(10, 8, 32, 32)"
      ]
     },
     "execution_count": 186,
     "metadata": {},
     "output_type": "execute_result"
    }
   ],
   "source": [
    "batch[lsds].data.shape"
   ]
  },
  {
   "cell_type": "code",
   "execution_count": 177,
   "metadata": {},
   "outputs": [],
   "source": [
    "arr = batch[seg].data"
   ]
  },
  {
   "cell_type": "code",
   "execution_count": 181,
   "metadata": {},
   "outputs": [
    {
     "data": {
      "text/plain": [
       "array([[[5, 5, 5, ..., 3, 3, 3],\n",
       "        [5, 5, 5, ..., 3, 3, 3],\n",
       "        [5, 5, 5, ..., 3, 3, 3],\n",
       "        ...,\n",
       "        [5, 5, 5, ..., 5, 5, 5],\n",
       "        [0, 0, 0, ..., 5, 5, 5],\n",
       "        [0, 0, 0, ..., 5, 5, 5]],\n",
       "\n",
       "       [[5, 5, 5, ..., 3, 3, 3],\n",
       "        [5, 5, 5, ..., 3, 3, 3],\n",
       "        [5, 5, 5, ..., 3, 3, 3],\n",
       "        ...,\n",
       "        [0, 0, 0, ..., 5, 5, 5],\n",
       "        [0, 0, 0, ..., 5, 5, 5],\n",
       "        [0, 0, 0, ..., 5, 5, 5]],\n",
       "\n",
       "       [[5, 5, 5, ..., 3, 3, 3],\n",
       "        [5, 5, 5, ..., 3, 3, 3],\n",
       "        [5, 5, 5, ..., 3, 3, 3],\n",
       "        ...,\n",
       "        [1, 1, 1, ..., 5, 5, 5],\n",
       "        [1, 1, 1, ..., 5, 5, 5],\n",
       "        [1, 1, 1, ..., 5, 5, 5]],\n",
       "\n",
       "       ...,\n",
       "\n",
       "       [[5, 5, 5, ..., 3, 3, 3],\n",
       "        [5, 5, 5, ..., 3, 3, 3],\n",
       "        [5, 5, 5, ..., 3, 3, 3],\n",
       "        ...,\n",
       "        [1, 1, 1, ..., 4, 4, 4],\n",
       "        [1, 1, 1, ..., 4, 4, 4],\n",
       "        [1, 1, 1, ..., 4, 4, 4]],\n",
       "\n",
       "       [[0, 0, 0, ..., 3, 3, 3],\n",
       "        [0, 0, 0, ..., 3, 3, 3],\n",
       "        [0, 0, 0, ..., 3, 3, 3],\n",
       "        ...,\n",
       "        [1, 1, 1, ..., 4, 4, 4],\n",
       "        [1, 1, 1, ..., 0, 4, 4],\n",
       "        [1, 1, 1, ..., 0, 0, 4]],\n",
       "\n",
       "       [[2, 2, 2, ..., 3, 3, 3],\n",
       "        [2, 2, 2, ..., 0, 3, 3],\n",
       "        [2, 2, 2, ..., 0, 0, 3],\n",
       "        ...,\n",
       "        [1, 1, 1, ..., 1, 1, 1],\n",
       "        [1, 1, 1, ..., 1, 1, 1],\n",
       "        [1, 1, 1, ..., 1, 1, 1]]], dtype=uint64)"
      ]
     },
     "execution_count": 181,
     "metadata": {},
     "output_type": "execute_result"
    }
   ],
   "source": []
  },
  {
   "cell_type": "code",
   "execution_count": 123,
   "metadata": {},
   "outputs": [],
   "source": [
    "def fun():\n",
    "    exp = comet_ml.get_running_experiment()\n",
    "    return exp.project_name"
   ]
  },
  {
   "cell_type": "code",
   "execution_count": 204,
   "metadata": {},
   "outputs": [],
   "source": [
    "img = np.uint8(batch[raw].data[0] * 255)"
   ]
  },
  {
   "cell_type": "code",
   "execution_count": 216,
   "metadata": {},
   "outputs": [
    {
     "data": {
      "text/plain": [
       "(3, 32, 32)"
      ]
     },
     "execution_count": 216,
     "metadata": {},
     "output_type": "execute_result"
    }
   ],
   "source": [
    "arr = batch[affs].data[:, 0, ...]\n",
    "arr.shape"
   ]
  },
  {
   "cell_type": "code",
   "execution_count": 219,
   "metadata": {},
   "outputs": [],
   "source": [
    "import matplotlib.pyplot as plt"
   ]
  },
  {
   "cell_type": "code",
   "execution_count": 224,
   "metadata": {},
   "outputs": [
    {
     "data": {
      "text/plain": [
       "{'web': 'https://www.comet.com/api/image/download?imageId=0e9bec082cba4edf9d855a7be3c48fd1&experimentKey=14f214f95faa42f6904cd3887799bb32',\n",
       " 'api': 'https://www.comet.com/api/rest/v1/image/get-image?imageId=0e9bec082cba4edf9d855a7be3c48fd1&experimentKey=14f214f95faa42f6904cd3887799bb32',\n",
       " 'imageId': '0e9bec082cba4edf9d855a7be3c48fd1'}"
      ]
     },
     "execution_count": 224,
     "metadata": {},
     "output_type": "execute_result"
    }
   ],
   "source": [
    "exp.log_image(batch[raw].data[0, ...].T)"
   ]
  },
  {
   "cell_type": "code",
   "execution_count": 225,
   "metadata": {},
   "outputs": [
    {
     "name": "stderr",
     "output_type": "stream",
     "text": [
      "\u001b[1;38;5;196mCOMET ERROR:\u001b[0m Couldn't log ipython notebook\n",
      "\u001b[1;38;5;39mCOMET INFO:\u001b[0m ---------------------------------------------------------------------------------------\n",
      "\u001b[1;38;5;39mCOMET INFO:\u001b[0m Comet.ml Experiment Summary\n",
      "\u001b[1;38;5;39mCOMET INFO:\u001b[0m ---------------------------------------------------------------------------------------\n",
      "\u001b[1;38;5;39mCOMET INFO:\u001b[0m   Data:\n",
      "\u001b[1;38;5;39mCOMET INFO:\u001b[0m     display_summary_level : 1\n",
      "\u001b[1;38;5;39mCOMET INFO:\u001b[0m     name                  : healthy_blend_6912\n",
      "\u001b[1;38;5;39mCOMET INFO:\u001b[0m     url                   : https://www.comet.com/valgillet/test/14f214f95faa42f6904cd3887799bb32\n",
      "\u001b[1;38;5;39mCOMET INFO:\u001b[0m   Uploads:\n",
      "\u001b[1;38;5;39mCOMET INFO:\u001b[0m     conda-environment-definition : 1\n",
      "\u001b[1;38;5;39mCOMET INFO:\u001b[0m     conda-info                   : 1\n",
      "\u001b[1;38;5;39mCOMET INFO:\u001b[0m     conda-specification          : 1\n",
      "\u001b[1;38;5;39mCOMET INFO:\u001b[0m     environment details          : 1\n",
      "\u001b[1;38;5;39mCOMET INFO:\u001b[0m     filename                     : 1\n",
      "\u001b[1;38;5;39mCOMET INFO:\u001b[0m     images                       : 4\n",
      "\u001b[1;38;5;39mCOMET INFO:\u001b[0m     installed packages           : 1\n",
      "\u001b[1;38;5;39mCOMET INFO:\u001b[0m     model-element                : 1 (786 bytes)\n",
      "\u001b[1;38;5;39mCOMET INFO:\u001b[0m     os packages                  : 1\n",
      "\u001b[1;38;5;39mCOMET INFO:\u001b[0m     source_code                  : 1\n",
      "\u001b[1;38;5;39mCOMET INFO:\u001b[0m \n"
     ]
    }
   ],
   "source": [
    "exp.end()"
   ]
  },
  {
   "cell_type": "code",
   "execution_count": 217,
   "metadata": {},
   "outputs": [
    {
     "ename": "NameError",
     "evalue": "name 'plt' is not defined",
     "output_type": "error",
     "traceback": [
      "\u001b[0;31m---------------------------------------------------------------------------\u001b[0m",
      "\u001b[0;31mNameError\u001b[0m                                 Traceback (most recent call last)",
      "Cell \u001b[0;32mIn[217], line 1\u001b[0m\n\u001b[0;32m----> 1\u001b[0m fig, ax\u001b[38;5;241m=\u001b[39m \u001b[43mplt\u001b[49m\u001b[38;5;241m.\u001b[39msubplots(figsize\u001b[38;5;241m=\u001b[39m(\u001b[38;5;241m10\u001b[39m,\u001b[38;5;241m10\u001b[39m))\n\u001b[1;32m      2\u001b[0m ax\u001b[38;5;241m.\u001b[39mimshow(arr)\n",
      "\u001b[0;31mNameError\u001b[0m: name 'plt' is not defined"
     ]
    }
   ],
   "source": [
    "fig, ax= plt.subplots(figsize=(10,10))\n",
    "ax.imshow(arr)"
   ]
  },
  {
   "cell_type": "code",
   "execution_count": null,
   "metadata": {},
   "outputs": [
    {
     "data": {
      "image/jpeg": "[encoded data removed]",
      "image/png": "[encoded data removed]",
      "text/plain": [
       "<PIL.Image.Image image mode=RGB size=32x32>"
      ]
     },
     "execution_count": 212,
     "metadata": {},
     "output_type": "execute_result"
    }
   ],
   "source": [
    "Image.fromarray(np.uint8(batch[affs].data[:, 0, ...].T*255), mode='RGB')"
   ]
  },
  {
   "cell_type": "code",
   "execution_count": null,
   "metadata": {},
   "outputs": [],
   "source": [
    "img = np.transpose(img, (2,1,0))"
   ]
  },
  {
   "cell_type": "code",
   "execution_count": 206,
   "metadata": {},
   "outputs": [
    {
     "data": {
      "text/plain": [
       "array([[[[0.50131303, 0.5061335 , 0.5100966 , ..., 0.55174965,\n",
       "          0.5462223 , 0.541031  ],\n",
       "         [0.4969429 , 0.5017564 , 0.5057227 , ..., 0.5458411 ,\n",
       "          0.54077274, 0.53602535],\n",
       "         [0.4930865 , 0.4979056 , 0.50188583, ..., 0.5403742 ,\n",
       "          0.53576905, 0.53146744],\n",
       "         ...,\n",
       "         [0.34552103, 0.35306206, 0.36059391, ..., 0.43598938,\n",
       "          0.42904586, 0.42124188],\n",
       "         [0.        , 0.        , 0.        , ..., 0.42754224,\n",
       "          0.42035165, 0.41231042],\n",
       "         [0.        , 0.        , 0.        , ..., 0.41850725,\n",
       "          0.41112787, 0.4029115 ]],\n",
       "\n",
       "        [[0.49013138, 0.4961076 , 0.5011307 , ..., 0.4925967 ,\n",
       "          0.4930218 , 0.49361622],\n",
       "         [0.48252717, 0.48897475, 0.49440753, ..., 0.48524857,\n",
       "          0.4862208 , 0.4873595 ],\n",
       "         [0.47538707, 0.4823241 , 0.48819032, ..., 0.47841924,\n",
       "          0.47991765, 0.48157856],\n",
       "         ...,\n",
       "         [0.        , 0.        , 0.        , ..., 0.3766576 ,\n",
       "          0.3715983 , 0.36587155],\n",
       "         [0.        , 0.        , 0.        , ..., 0.36123517,\n",
       "          0.35569686, 0.34945995],\n",
       "         [0.        , 0.        , 0.        , ..., 0.34521842,\n",
       "          0.3392605 , 0.33257917]],\n",
       "\n",
       "        [[0.4981149 , 0.50212187, 0.5057054 , ..., 0.46206653,\n",
       "          0.46607512, 0.47007522],\n",
       "         [0.48527196, 0.49032238, 0.49481583, ..., 0.45352072,\n",
       "          0.4581946 , 0.4628498 ],\n",
       "         [0.47259662, 0.47874793, 0.4842144 , ..., 0.44544664,\n",
       "          0.45073712, 0.4560018 ],\n",
       "         ...,\n",
       "         [0.695843  , 0.70754546, 0.71956456, ..., 0.26146293,\n",
       "          0.25831172, 0.25474614],\n",
       "         [0.67492855, 0.6865351 , 0.698541  , ..., 0.2405979 ,\n",
       "          0.23717067, 0.23327142],\n",
       "         [0.65513384, 0.6665324 , 0.6784053 , ..., 0.21940103,\n",
       "          0.2157079 , 0.21148771]],\n",
       "\n",
       "        ...,\n",
       "\n",
       "        [[0.19793904, 0.20085958, 0.20344391, ..., 0.4962308 ,\n",
       "          0.4937289 , 0.49140295],\n",
       "         [0.19741058, 0.2003952 , 0.20304236, ..., 0.49359995,\n",
       "          0.4909411 , 0.48845902],\n",
       "         [0.19634119, 0.19939983, 0.20212072, ..., 0.49043655,\n",
       "          0.48762867, 0.48499602],\n",
       "         ...,\n",
       "         [0.4977857 , 0.49839833, 0.49936548, ..., 0.422391  ,\n",
       "          0.42656124, 0.43059692],\n",
       "         [0.49829254, 0.49891332, 0.4998469 , ..., 0.40784937,\n",
       "          0.41228613, 0.4166087 ],\n",
       "         [0.49839935, 0.49901935, 0.49991405, ..., 0.3929016 ,\n",
       "          0.39756647, 0.40213725]],\n",
       "\n",
       "        [[0.        , 0.        , 0.        , ..., 0.3863228 ,\n",
       "          0.38993454, 0.39347687],\n",
       "         [0.        , 0.        , 0.        , ..., 0.37638396,\n",
       "          0.37987876, 0.3833168 ],\n",
       "         [0.        , 0.        , 0.        , ..., 0.3660965 ,\n",
       "          0.36945724, 0.37277374],\n",
       "         ...,\n",
       "         [0.46915895, 0.46888378, 0.4689786 , ..., 0.22392043,\n",
       "          0.23487091, 0.2457166 ],\n",
       "         [0.47424343, 0.47404632, 0.47415897, ..., 0.        ,\n",
       "          0.22126669, 0.23247018],\n",
       "         [0.47812703, 0.47799987, 0.4781283 , ..., 0.        ,\n",
       "          0.        , 0.21822053]],\n",
       "\n",
       "        [[0.8026408 , 0.79772234, 0.79393053, ..., 0.2404429 ,\n",
       "          0.24891585, 0.25684154],\n",
       "         [0.8013982 , 0.79646504, 0.7926417 , ..., 0.        ,\n",
       "          0.23080012, 0.23854166],\n",
       "         [0.8008748 , 0.79588366, 0.7919917 , ..., 0.        ,\n",
       "          0.        , 0.22021687],\n",
       "         ...,\n",
       "         [0.42818198, 0.42862296, 0.4294792 , ..., 0.7346786 ,\n",
       "          0.7563639 , 0.77843523],\n",
       "         [0.4384687 , 0.4388967 , 0.43965912, ..., 0.716981  ,\n",
       "          0.7380519 , 0.75962627],\n",
       "         [0.44696248, 0.44736278, 0.44802475, ..., 0.69892883,\n",
       "          0.7193848 , 0.740449  ]]],\n",
       "\n",
       "\n",
       "       [[[0.65922266, 0.6517783 , 0.64602053, ..., 0.5261416 ,\n",
       "          0.5266524 , 0.52706504],\n",
       "         [0.6330625 , 0.6257874 , 0.6201431 , ..., 0.50437737,\n",
       "          0.5064326 , 0.50833946],\n",
       "         [0.60989714, 0.6028824 , 0.59743005, ..., 0.48379046,\n",
       "          0.4874391 , 0.49089214],\n",
       "         ...,\n",
       "         [0.218647  , 0.23989868, 0.260775  , ..., 0.4925458 ,\n",
       "          0.49550602, 0.49871674],\n",
       "         [0.        , 0.        , 0.        , ..., 0.47806957,\n",
       "          0.4799334 , 0.48202032],\n",
       "         [0.        , 0.        , 0.        , ..., 0.46285146,\n",
       "          0.46362382, 0.46458334]],\n",
       "\n",
       "        [[0.6303794 , 0.6239045 , 0.6190014 , ..., 0.4922348 ,\n",
       "          0.4953059 , 0.4982339 ],\n",
       "         [0.60687053, 0.60064024, 0.5959325 , ..., 0.4728237 ,\n",
       "          0.47741967, 0.48181596],\n",
       "         [0.58588934, 0.5799872 , 0.57554984, ..., 0.45471954,\n",
       "          0.46085408, 0.4667319 ],\n",
       "         ...,\n",
       "         [0.        , 0.        , 0.        , ..., 0.43450418,\n",
       "          0.43537775, 0.4364413 ],\n",
       "         [0.        , 0.        , 0.        , ..., 0.4171331 ,\n",
       "          0.41721877, 0.41749522],\n",
       "         [0.        , 0.        , 0.        , ..., 0.39876607,\n",
       "          0.39809468, 0.39760894]],\n",
       "\n",
       "        [[0.5776145 , 0.5749055 , 0.5732423 , ..., 0.45030808,\n",
       "          0.4564935 , 0.46251756],\n",
       "         [0.55627316, 0.5540006 , 0.55275524, ..., 0.43354377,\n",
       "          0.4411073 , 0.44845974],\n",
       "         [0.5367189 , 0.53492445, 0.53414017, ..., 0.41818887,\n",
       "          0.42708945, 0.43572438],\n",
       "         ...,\n",
       "         [0.6672287 , 0.6727084 , 0.6787188 , ..., 0.34500527,\n",
       "          0.34368157, 0.34229964],\n",
       "         [0.6515724 , 0.65708315, 0.66302717, ..., 0.3253245 ,\n",
       "          0.3233912 , 0.32142028],\n",
       "         [0.6363955 , 0.64195096, 0.6478602 , ..., 0.3044703 ,\n",
       "          0.30196458, 0.29944128]],\n",
       "\n",
       "        ...,\n",
       "\n",
       "        [[0.46075934, 0.46812707, 0.475529  , ..., 0.40951017,\n",
       "          0.41856867, 0.42717767],\n",
       "         [0.43298697, 0.44179255, 0.45057476, ..., 0.3935281 ,\n",
       "          0.40370026, 0.41337916],\n",
       "         [0.40532023, 0.41560808, 0.42582345, ..., 0.37718797,\n",
       "          0.3883864 , 0.399057  ],\n",
       "         ...,\n",
       "         [0.5330271 , 0.53847045, 0.5445371 , ..., 0.50123876,\n",
       "          0.5036051 , 0.50631005],\n",
       "         [0.52401453, 0.52856904, 0.5336474 , ..., 0.47852656,\n",
       "          0.48121592, 0.48414865],\n",
       "         [0.515685  , 0.5195188 , 0.5237724 , ..., 0.45699972,\n",
       "          0.4599978 , 0.4631434 ]],\n",
       "\n",
       "        [[0.        , 0.        , 0.        , ..., 0.38001505,\n",
       "          0.38846245, 0.39650917],\n",
       "         [0.        , 0.        , 0.        , ..., 0.3617785 ,\n",
       "          0.3713094 , 0.38037974],\n",
       "         [0.        , 0.        , 0.        , ..., 0.34292322,\n",
       "          0.3534336 , 0.36343282],\n",
       "         ...,\n",
       "         [0.5491969 , 0.554954  , 0.5610621 , ..., 0.4313731 ,\n",
       "          0.43553925, 0.44006044],\n",
       "         [0.5360214 , 0.54083556, 0.54593176, ..., 0.        ,\n",
       "          0.40964127, 0.41414312],\n",
       "         [0.52348685, 0.52753246, 0.5317863 , ..., 0.        ,\n",
       "          0.        , 0.38948745]],\n",
       "\n",
       "        [[0.5151231 , 0.5155819 , 0.51615256, ..., 0.31171966,\n",
       "          0.31951332, 0.3269918 ],\n",
       "         [0.5068919 , 0.50776213, 0.50870323, ..., 0.        ,\n",
       "          0.30148366, 0.30984712],\n",
       "         [0.49880663, 0.5001546 , 0.50153184, ..., 0.        ,\n",
       "          0.        , 0.29196805],\n",
       "         ...,\n",
       "         [0.59129286, 0.5973943 , 0.6034676 , ..., 0.57338077,\n",
       "          0.5597191 , 0.54524106],\n",
       "         [0.5704763 , 0.5755727 , 0.58061194, ..., 0.5312037 ,\n",
       "          0.5172025 , 0.5023613 ],\n",
       "         [0.5500659 , 0.5543213 , 0.5584872 , ..., 0.4895968 ,\n",
       "          0.47516352, 0.45987904]]],\n",
       "\n",
       "\n",
       "       [[[0.59947395, 0.57882726, 0.5599574 , ..., 0.7619014 ,\n",
       "          0.7237475 , 0.6887965 ],\n",
       "         [0.59119594, 0.5722177 , 0.5550012 , ..., 0.76328456,\n",
       "          0.7249896 , 0.68992716],\n",
       "         [0.58317935, 0.56581026, 0.5501773 , ..., 0.7662455 ,\n",
       "          0.72777605, 0.6925446 ],\n",
       "         ...,\n",
       "         [0.67190695, 0.6644084 , 0.65665793, ..., 0.28665262,\n",
       "          0.24878895, 0.2079094 ],\n",
       "         [0.        , 0.        , 0.        , ..., 0.2889679 ,\n",
       "          0.25133362, 0.21069083],\n",
       "         [0.        , 0.        , 0.        , ..., 0.29021198,\n",
       "          0.25277454, 0.21234664]],\n",
       "\n",
       "        [[0.6301211 , 0.60460865, 0.5811128 , ..., 0.7483836 ,\n",
       "          0.7114517 , 0.6778221 ],\n",
       "         [0.62290496, 0.59893644, 0.5769992 , ..., 0.75231576,\n",
       "          0.71522015, 0.6814176 ],\n",
       "         [0.6160126 , 0.59353805, 0.57309544, ..., 0.7577904 ,\n",
       "          0.72048616, 0.68644667],\n",
       "         ...,\n",
       "         [0.        , 0.        , 0.        , ..., 0.25810164,\n",
       "          0.21636784, 0.17173082],\n",
       "         [0.        , 0.        , 0.        , ..., 0.25853118,\n",
       "          0.21696371, 0.17253977],\n",
       "         [0.        , 0.        , 0.        , ..., 0.258197  ,\n",
       "          0.21679306, 0.17258835]],\n",
       "\n",
       "        [[0.65798044, 0.6285186 , 0.60166955, ..., 0.76157224,\n",
       "          0.7250735 , 0.691715  ],\n",
       "         [0.65489984, 0.626469  , 0.6006694 , ..., 0.76849794,\n",
       "          0.7318474 , 0.698289  ],\n",
       "         [0.65228486, 0.6248765 , 0.6000954 , ..., 0.7767832 ,\n",
       "          0.7399381 , 0.7061238 ],\n",
       "         ...,\n",
       "         [0.4148252 , 0.40641695, 0.39707083, ..., 0.23915201,\n",
       "          0.19455692, 0.1472908 ],\n",
       "         [0.42009583, 0.41214982, 0.40331537, ..., 0.2375974 ,\n",
       "          0.19291714, 0.14563343],\n",
       "         [0.42542827, 0.4178571 , 0.4094438 , ..., 0.23544946,\n",
       "          0.19070512, 0.14343134]],\n",
       "\n",
       "        ...,\n",
       "\n",
       "        [[0.6978395 , 0.6658738 , 0.63705397, ..., 0.72828394,\n",
       "          0.6943713 , 0.6636228 ],\n",
       "         [0.70579183, 0.6738618 , 0.6450311 , ..., 0.7380165 ,\n",
       "          0.7036812 , 0.6724408 ],\n",
       "         [0.71521604, 0.68327856, 0.65437484, ..., 0.74880373,\n",
       "          0.71401393, 0.6822426 ],\n",
       "         ...,\n",
       "         [0.48145255, 0.47781932, 0.47362164, ..., 0.7582288 ,\n",
       "          0.7218142 , 0.68820494],\n",
       "         [0.48619524, 0.48311654, 0.4795016 , ..., 0.76051354,\n",
       "          0.72438306, 0.69107664],\n",
       "         [0.49017346, 0.4875473 , 0.48441988, ..., 0.7631653 ,\n",
       "          0.7272293 , 0.69412386]],\n",
       "\n",
       "        [[0.        , 0.        , 0.        , ..., 0.7308955 ,\n",
       "          0.6975026 , 0.6669922 ],\n",
       "         [0.        , 0.        , 0.        , ..., 0.7399783 ,\n",
       "          0.7062103 , 0.6752429 ],\n",
       "         [0.        , 0.        , 0.        , ..., 0.75010705,\n",
       "          0.71591544, 0.68443656],\n",
       "         ...,\n",
       "         [0.48082504, 0.4787716 , 0.47649905, ..., 0.7972883 ,\n",
       "          0.7606069 , 0.7261993 ],\n",
       "         [0.4859337 , 0.48418555, 0.48222515, ..., 0.        ,\n",
       "          0.76482904, 0.73074186],\n",
       "         [0.49023297, 0.48871815, 0.48700142, ..., 0.        ,\n",
       "          0.        , 0.73518574]],\n",
       "\n",
       "        [[0.55465406, 0.5433829 , 0.5330344 , ..., 0.7627088 ,\n",
       "          0.72826946, 0.69599307],\n",
       "         [0.5553074 , 0.5440923 , 0.53387666, ..., 0.        ,\n",
       "          0.7362915 , 0.70364124],\n",
       "         [0.5563929 , 0.5452025 , 0.5350694 , ..., 0.        ,\n",
       "          0.        , 0.71213174],\n",
       "         ...,\n",
       "         [0.47923356, 0.4789243 , 0.47873878, ..., 0.24343592,\n",
       "          0.21538189, 0.18544361],\n",
       "         [0.48478967, 0.4844509 , 0.4841985 , ..., 0.230144  ,\n",
       "          0.20125657, 0.17057621],\n",
       "         [0.48945835, 0.4890578 , 0.48871014, ..., 0.21648866,\n",
       "          0.18675613, 0.15531337]]],\n",
       "\n",
       "\n",
       "       ...,\n",
       "\n",
       "\n",
       "       [[[0.53817904, 0.5314468 , 0.52497363, ..., 0.44839513,\n",
       "          0.45327568, 0.45815712],\n",
       "         [0.53759694, 0.5309954 , 0.52471054, ..., 0.45246458,\n",
       "          0.4571092 , 0.4617156 ],\n",
       "         [0.53714854, 0.5306575 , 0.5245366 , ..., 0.45659944,\n",
       "          0.46096718, 0.4652754 ],\n",
       "         ...,\n",
       "         [0.5545482 , 0.5544125 , 0.5542741 , ..., 0.4445776 ,\n",
       "          0.4351523 , 0.42517647],\n",
       "         [0.        , 0.        , 0.        , ..., 0.44205877,\n",
       "          0.43254602, 0.42253783],\n",
       "         [0.        , 0.        , 0.        , ..., 0.4399439 ,\n",
       "          0.43040234, 0.4204203 ]],\n",
       "\n",
       "        [[0.5471092 , 0.5391134 , 0.5320864 , ..., 0.50283015,\n",
       "          0.5041626 , 0.5053039 ],\n",
       "         [0.55041045, 0.5419427 , 0.53448415, ..., 0.50768113,\n",
       "          0.5088264 , 0.50973517],\n",
       "         [0.5538123 , 0.5449129 , 0.5370553 , ..., 0.5123981 ,\n",
       "          0.51335335, 0.5140275 ],\n",
       "         ...,\n",
       "         [0.        , 0.        , 0.        , ..., 0.45509586,\n",
       "          0.44687036, 0.4384415 ],\n",
       "         [0.        , 0.        , 0.        , ..., 0.45036235,\n",
       "          0.44162503, 0.43272614],\n",
       "         [0.        , 0.        , 0.        , ..., 0.44608662,\n",
       "          0.43692115, 0.4276382 ]],\n",
       "\n",
       "        [[0.53199863, 0.52765226, 0.5243738 , ..., 0.53245753,\n",
       "          0.53149337, 0.530271  ],\n",
       "         [0.54016113, 0.5346798 , 0.530301  , ..., 0.5379261 ,\n",
       "          0.536744  , 0.535267  ],\n",
       "         [0.5486709 , 0.54210585, 0.5366699 , ..., 0.543015  ,\n",
       "          0.54165894, 0.53997964],\n",
       "         ...,\n",
       "         [0.5827404 , 0.5865401 , 0.59034914, ..., 0.467313  ,\n",
       "          0.46113962, 0.45516643],\n",
       "         [0.58044326, 0.58469194, 0.5889547 , ..., 0.46424606,\n",
       "          0.45731312, 0.4505559 ],\n",
       "         [0.57756704, 0.5821913 , 0.58684886, ..., 0.46124986,\n",
       "          0.45358914, 0.4461038 ]],\n",
       "\n",
       "        ...,\n",
       "\n",
       "        [[0.53654206, 0.53157055, 0.52697945, ..., 0.47703642,\n",
       "          0.479537  , 0.48175904],\n",
       "         [0.5369896 , 0.5320642 , 0.5275151 , ..., 0.47531658,\n",
       "          0.47792608, 0.4802272 ],\n",
       "         [0.5375461 , 0.5326686 , 0.5281591 , ..., 0.4736333 ,\n",
       "          0.4763214 , 0.47866645],\n",
       "         ...,\n",
       "         [0.5024854 , 0.5045388 , 0.50702786, ..., 0.5472356 ,\n",
       "          0.5438304 , 0.5402747 ],\n",
       "         [0.50264204, 0.5044091 , 0.50658655, ..., 0.549828  ,\n",
       "          0.54651415, 0.54303735],\n",
       "         [0.502739  , 0.5042531 , 0.5061561 , ..., 0.55204815,\n",
       "          0.5488467 , 0.54547   ]],\n",
       "\n",
       "        [[0.        , 0.        , 0.        , ..., 0.534925  ,\n",
       "          0.53345275, 0.5312111 ],\n",
       "         [0.        , 0.        , 0.        , ..., 0.534364  ,\n",
       "          0.5330521 , 0.5309355 ],\n",
       "         [0.        , 0.        , 0.        , ..., 0.5336343 ,\n",
       "          0.53248185, 0.530479  ],\n",
       "         ...,\n",
       "         [0.49689117, 0.49895525, 0.5014869 , ..., 0.6274536 ,\n",
       "          0.6222959 , 0.6160249 ],\n",
       "         [0.49760133, 0.4992839 , 0.5013862 , ..., 0.        ,\n",
       "          0.62562466, 0.61913687],\n",
       "         [0.49823064, 0.49958163, 0.50130504, ..., 0.        ,\n",
       "          0.        , 0.62181264]],\n",
       "\n",
       "        [[0.44533205, 0.45744288, 0.4680872 , ..., 0.58868325,\n",
       "          0.5815444 , 0.5733672 ],\n",
       "         [0.44528836, 0.45728567, 0.46775898, ..., 0.        ,\n",
       "          0.5812533 , 0.57321954],\n",
       "         [0.44479638, 0.45671582, 0.46706468, ..., 0.        ,\n",
       "          0.        , 0.57289225],\n",
       "         ...,\n",
       "         [0.5013904 , 0.50380856, 0.5066054 , ..., 0.6901895 ,\n",
       "          0.6990868 , 0.70790374],\n",
       "         [0.50156885, 0.5034848 , 0.5057131 , ..., 0.6843467 ,\n",
       "          0.6938937 , 0.70335495],\n",
       "         [0.5016305 , 0.50310075, 0.5048294 , ..., 0.6786374 ,\n",
       "          0.6887832 , 0.69886625]]],\n",
       "\n",
       "\n",
       "       [[[0.42794937, 0.44343212, 0.45830923, ..., 0.5052375 ,\n",
       "          0.50379056, 0.50284886],\n",
       "         [0.4325089 , 0.44693837, 0.46070266, ..., 0.52040386,\n",
       "          0.5179029 , 0.5157924 ],\n",
       "         [0.43742058, 0.45078105, 0.46342382, ..., 0.5358325 ,\n",
       "          0.5322852 , 0.5290325 ],\n",
       "         ...,\n",
       "         [0.6693388 , 0.66442466, 0.65874565, ..., 0.5248788 ,\n",
       "          0.5282852 , 0.5319948 ],\n",
       "         [0.        , 0.        , 0.        , ..., 0.5153482 ,\n",
       "          0.51805556, 0.5211105 ],\n",
       "         [0.        , 0.        , 0.        , ..., 0.50584227,\n",
       "          0.5077679 , 0.5101145 ]],\n",
       "\n",
       "        [[0.43570653, 0.4503828 , 0.4646417 , ..., 0.52948576,\n",
       "          0.52676225, 0.52431256],\n",
       "         [0.44025177, 0.45401087, 0.46726644, ..., 0.5437844 ,\n",
       "          0.5400019 , 0.5364216 ],\n",
       "         [0.44514546, 0.45798254, 0.4702268 , ..., 0.5580844 ,\n",
       "          0.5532613 , 0.5485592 ],\n",
       "         ...,\n",
       "         [0.        , 0.        , 0.        , ..., 0.50714004,\n",
       "          0.50913805, 0.5117583 ],\n",
       "         [0.        , 0.        , 0.        , ..., 0.4997241 ,\n",
       "          0.5013886 , 0.5037352 ],\n",
       "         [0.        , 0.        , 0.        , ..., 0.492527  ,\n",
       "          0.49382293, 0.4958649 ]],\n",
       "\n",
       "        [[0.47052667, 0.48028743, 0.48974013, ..., 0.5574515 ,\n",
       "          0.5537072 , 0.54997206],\n",
       "         [0.47510186, 0.48442993, 0.49330238, ..., 0.56971097,\n",
       "          0.5651454 , 0.5605346 ],\n",
       "         [0.4797855 , 0.48872083, 0.49705073, ..., 0.58159125,\n",
       "          0.5762    , 0.5707237 ],\n",
       "         ...,\n",
       "         [0.53660685, 0.54047954, 0.5448298 , ..., 0.48685133,\n",
       "          0.4853372 , 0.4843831 ],\n",
       "         [0.53687245, 0.54001135, 0.54358935, ..., 0.48049983,\n",
       "          0.47893974, 0.47802427],\n",
       "         [0.53718776, 0.5397454 , 0.5426968 , ..., 0.47435403,\n",
       "          0.47277322, 0.47194287]],\n",
       "\n",
       "        ...,\n",
       "\n",
       "        [[0.56940037, 0.56689847, 0.5643598 , ..., 0.58198243,\n",
       "          0.57516384, 0.56840086],\n",
       "         [0.58316755, 0.5796415 , 0.5759994 , ..., 0.59268653,\n",
       "          0.5851783 , 0.5776922 ],\n",
       "         [0.5975062 , 0.5930495 , 0.58838874, ..., 0.60307544,\n",
       "          0.594961  , 0.5868325 ],\n",
       "         ...,\n",
       "         [0.53320813, 0.5376408 , 0.5423903 , ..., 0.5202006 ,\n",
       "          0.52259666, 0.52511793],\n",
       "         [0.5274263 , 0.53103983, 0.53497934, ..., 0.5234955 ,\n",
       "          0.52491736, 0.526404  ],\n",
       "         [0.52292496, 0.52574587, 0.52890134, ..., 0.5266765 ,\n",
       "          0.5271515 , 0.52768016]],\n",
       "\n",
       "        [[0.        , 0.        , 0.        , ..., 0.57721496,\n",
       "          0.57123613, 0.5651349 ],\n",
       "         [0.        , 0.        , 0.        , ..., 0.5879387 ,\n",
       "          0.58116007, 0.57424664],\n",
       "         [0.        , 0.        , 0.        , ..., 0.5981984 ,\n",
       "          0.5907068 , 0.5830618 ],\n",
       "         ...,\n",
       "         [0.536826  , 0.53951514, 0.5423203 , ..., 0.5382342 ,\n",
       "          0.5406548 , 0.5432183 ],\n",
       "         [0.5305526 , 0.532645  , 0.53485996, ..., 0.        ,\n",
       "          0.5403345 , 0.5419258 ],\n",
       "         [0.52561224, 0.5271174 , 0.52875507, ..., 0.        ,\n",
       "          0.        , 0.54028916]],\n",
       "\n",
       "        [[0.5025463 , 0.5029629 , 0.5039659 , ..., 0.5721469 ,\n",
       "          0.567555  , 0.56265247],\n",
       "         [0.5054836 , 0.5056576 , 0.50627595, ..., 0.        ,\n",
       "          0.57634914, 0.5707175 ],\n",
       "         [0.50888485, 0.5088025 , 0.5090295 , ..., 0.        ,\n",
       "          0.        , 0.5784401 ],\n",
       "         ...,\n",
       "         [0.5423323 , 0.5426134 , 0.5426318 , ..., 0.36113912,\n",
       "          0.34917253, 0.3376118 ],\n",
       "         [0.5353321 , 0.5352943 , 0.5350177 , ..., 0.35771203,\n",
       "          0.34534997, 0.33330548],\n",
       "         [0.5296027 , 0.52924985, 0.5286875 , ..., 0.3529828 ,\n",
       "          0.3403219 , 0.3279546 ]]],\n",
       "\n",
       "\n",
       "       [[[0.75296235, 0.77598464, 0.7944083 , ..., 0.63455135,\n",
       "          0.68852454, 0.7379817 ],\n",
       "         [0.7910315 , 0.8132063 , 0.83092266, ..., 0.63789004,\n",
       "          0.6924608 , 0.7425074 ],\n",
       "         [0.82419497, 0.8452715 , 0.8620812 , ..., 0.636735  ,\n",
       "          0.6918811 , 0.7425681 ],\n",
       "         ...,\n",
       "         [0.5249064 , 0.555689  , 0.5867445 , ..., 0.701215  ,\n",
       "          0.6485352 , 0.5919453 ],\n",
       "         [0.        , 0.        , 0.        , ..., 0.6976933 ,\n",
       "          0.64580876, 0.5899873 ],\n",
       "         [0.        , 0.        , 0.        , ..., 0.6907313 ,\n",
       "          0.6396575 , 0.584675  ]],\n",
       "\n",
       "        [[0.7443869 , 0.77439064, 0.79898965, ..., 0.65777564,\n",
       "          0.7106581 , 0.75876266],\n",
       "         [0.77481264, 0.80432886, 0.82854503, ..., 0.6540517 ,\n",
       "          0.7075556 , 0.7563925 ],\n",
       "         [0.8004998 , 0.82930857, 0.8529712 , ..., 0.64629084,\n",
       "          0.7004273 , 0.75007343],\n",
       "         ...,\n",
       "         [0.        , 0.        , 0.        , ..., 0.6034353 ,\n",
       "          0.5524812 , 0.4985563 ],\n",
       "         [0.        , 0.        , 0.        , ..., 0.5885215 ,\n",
       "          0.5389249 , 0.4864421 ],\n",
       "         [0.        , 0.        , 0.        , ..., 0.57054216,\n",
       "          0.5224219 , 0.47154048]],\n",
       "\n",
       "        [[0.73705137, 0.7734305 , 0.80396837, ..., 0.6284222 ,\n",
       "          0.6820268 , 0.7315844 ],\n",
       "         [0.75394154, 0.79049826, 0.82131445, ..., 0.6164264 ,\n",
       "          0.6705548 , 0.72089833],\n",
       "         [0.7659621 , 0.8025587 , 0.8335665 , ..., 0.60140294,\n",
       "          0.65601945, 0.7071649 ],\n",
       "         ...,\n",
       "         [0.6593265 , 0.6395365 , 0.61848384, ..., 0.4503094 ,\n",
       "          0.4095363 , 0.36676425],\n",
       "         [0.69582283, 0.6761987 , 0.65526706, ..., 0.4259927 ,\n",
       "          0.38721964, 0.3465919 ],\n",
       "         [0.73050934, 0.71123856, 0.690606  , ..., 0.40025213,\n",
       "          0.3635612 , 0.32517937]],\n",
       "\n",
       "        ...,\n",
       "\n",
       "        [[0.47081897, 0.50052553, 0.5267132 , ..., 0.66819507,\n",
       "          0.71744055, 0.7620115 ],\n",
       "         [0.462561  , 0.4930752 , 0.52027655, ..., 0.64652723,\n",
       "          0.69639796, 0.74191374],\n",
       "         [0.45026955, 0.4815038 , 0.5096795 , ..., 0.6220929 ,\n",
       "          0.672458  , 0.71883124],\n",
       "         ...,\n",
       "         [0.9592655 , 0.9524844 , 0.94448406, ..., 0.5459757 ,\n",
       "          0.59179556, 0.63397443],\n",
       "         [0.96854246, 0.9633377 , 0.9570559 , ..., 0.5441312 ,\n",
       "          0.5902956 , 0.6329642 ],\n",
       "         [0.9749752 , 0.9711267 , 0.9663264 , ..., 0.538313  ,\n",
       "          0.58453935, 0.6274291 ]],\n",
       "\n",
       "        [[0.        , 0.        , 0.        , ..., 0.6095085 ,\n",
       "          0.6550242 , 0.6964331 ],\n",
       "         [0.        , 0.        , 0.        , ..., 0.5836913 ,\n",
       "          0.62915057, 0.6708243 ],\n",
       "         [0.        , 0.        , 0.        , ..., 0.55543023,\n",
       "          0.60067993, 0.64249516],\n",
       "         ...,\n",
       "         [0.93391854, 0.92745864, 0.9203596 , ..., 0.4076204 ,\n",
       "          0.44759184, 0.48565674],\n",
       "         [0.9473019 , 0.9424315 , 0.9369856 , ..., 0.        ,\n",
       "          0.43617514, 0.47398242],\n",
       "         [0.9567168 , 0.9532279 , 0.9492181 , ..., 0.        ,\n",
       "          0.        , 0.4587098 ]],\n",
       "\n",
       "        [[0.61167234, 0.6218626 , 0.6299315 , ..., 0.448175  ,\n",
       "          0.48667234, 0.522587  ],\n",
       "         [0.6138489 , 0.6242297 , 0.6325066 , ..., 0.        ,\n",
       "          0.4566476 , 0.49163166],\n",
       "         [0.6143238 , 0.62495387, 0.63349706, ..., 0.        ,\n",
       "          0.        , 0.45973217],\n",
       "         ...,\n",
       "         [0.8593033 , 0.8532144 , 0.847095  , ..., 0.4170647 ,\n",
       "          0.38068056, 0.34409446],\n",
       "         [0.8827739 , 0.87816405, 0.8734881 , ..., 0.42439345,\n",
       "          0.3855886 , 0.34683213],\n",
       "         [0.9006624 , 0.8973659 , 0.8939656 , ..., 0.4258625 ,\n",
       "          0.3850946 , 0.34465352]]]], dtype=float32)"
      ]
     },
     "execution_count": 206,
     "metadata": {},
     "output_type": "execute_result"
    }
   ],
   "source": [
    "batch[lsds].data"
   ]
  },
  {
   "cell_type": "code",
   "execution_count": 205,
   "metadata": {},
   "outputs": [
    {
     "data": {
      "image/jpeg": "[encoded data removed]",
      "image/png": "[encoded data removed]",
      "text/plain": [
       "<PIL.Image.Image image mode=L size=124x124>"
      ]
     },
     "execution_count": 205,
     "metadata": {},
     "output_type": "execute_result"
    }
   ],
   "source": [
    "Image.fromarray(img, mode='L')"
   ]
  },
  {
   "cell_type": "code",
   "execution_count": 198,
   "metadata": {},
   "outputs": [
    {
     "data": {
      "text/plain": [
       "'https://www.comet.com/valgillet/test/14f214f95faa42f6904cd3887799bb32'"
      ]
     },
     "execution_count": 198,
     "metadata": {},
     "output_type": "execute_result"
    }
   ],
   "source": [
    "exp.url"
   ]
  },
  {
   "cell_type": "code",
   "execution_count": 195,
   "metadata": {},
   "outputs": [
    {
     "name": "stdout",
     "output_type": "stream",
     "text": [
      "test\n",
      "\u001b[36mtest\u001b[0m\n",
      "test\n"
     ]
    }
   ],
   "source": [
    "s = 'test'\n",
    "print(s)\n",
    "\n",
    "s = \"\\x1b[36m\" + 'test' + \"\\x1b[0m\"\n",
    "print(s)\n",
    "\n",
    "print('test')"
   ]
  },
  {
   "cell_type": "code",
   "execution_count": 189,
   "metadata": {},
   "outputs": [
    {
     "data": {
      "text/plain": [
       "'https://www.comet.com/valgillet/test/14f214f95faa42f6904cd3887799bb32'"
      ]
     },
     "execution_count": 189,
     "metadata": {},
     "output_type": "execute_result"
    }
   ],
   "source": [
    "exp.url"
   ]
  },
  {
   "cell_type": "code",
   "execution_count": 6,
   "metadata": {},
   "outputs": [],
   "source": [
    "import math\n",
    "import random\n",
    "\n",
    "for step in range(100):\n",
    "    accuracy = math.log(1 + step + random.uniform(-0.4, 0.4))/5\n",
    "    loss = 5 - math.log(1 + step + random.uniform(-0.4, 0.4))\n",
    "    exp.log_metrics({'accuracy': accuracy, 'loss': loss}, step=step)"
   ]
  },
  {
   "cell_type": "code",
   "execution_count": 8,
   "metadata": {},
   "outputs": [
    {
     "name": "stderr",
     "output_type": "stream",
     "text": [
      "\u001b[1;38;5;39mCOMET INFO:\u001b[0m ---------------------------------------------------------------------------------------\n",
      "\u001b[1;38;5;39mCOMET INFO:\u001b[0m Comet.ml Experiment Summary\n",
      "\u001b[1;38;5;39mCOMET INFO:\u001b[0m ---------------------------------------------------------------------------------------\n",
      "\u001b[1;38;5;39mCOMET INFO:\u001b[0m   Data:\n",
      "\u001b[1;38;5;39mCOMET INFO:\u001b[0m     display_summary_level : 1\n",
      "\u001b[1;38;5;39mCOMET INFO:\u001b[0m     name                  : sensible_tread_1560\n",
      "\u001b[1;38;5;39mCOMET INFO:\u001b[0m     url                   : https://www.comet.com/valgillet/test/cfdee58deea94020b188731281375c7b\n",
      "\u001b[1;38;5;39mCOMET INFO:\u001b[0m   Metrics [count] (min, max):\n",
      "\u001b[1;38;5;39mCOMET INFO:\u001b[0m     accuracy [100] : (-0.008687552718322408, 0.9205082313335987)\n",
      "\u001b[1;38;5;39mCOMET INFO:\u001b[0m     loss [100]     : (0.39882819124922975, 4.89305644719699)\n",
      "\u001b[1;38;5;39mCOMET INFO:\u001b[0m   Uploads:\n",
      "\u001b[1;38;5;39mCOMET INFO:\u001b[0m     conda-environment-definition : 1\n",
      "\u001b[1;38;5;39mCOMET INFO:\u001b[0m     conda-info                   : 1\n",
      "\u001b[1;38;5;39mCOMET INFO:\u001b[0m     conda-specification          : 1\n",
      "\u001b[1;38;5;39mCOMET INFO:\u001b[0m     environment details          : 1\n",
      "\u001b[1;38;5;39mCOMET INFO:\u001b[0m     filename                     : 1\n",
      "\u001b[1;38;5;39mCOMET INFO:\u001b[0m     installed packages           : 1\n",
      "\u001b[1;38;5;39mCOMET INFO:\u001b[0m     notebook                     : 1\n",
      "\u001b[1;38;5;39mCOMET INFO:\u001b[0m     os packages                  : 1\n",
      "\u001b[1;38;5;39mCOMET INFO:\u001b[0m     source_code                  : 1\n",
      "\u001b[1;38;5;39mCOMET INFO:\u001b[0m \n"
     ]
    }
   ],
   "source": [
    "exp.end()"
   ]
  }
 ],
 "metadata": {
  "kernelspec": {
   "display_name": "gunpowder",
   "language": "python",
   "name": "python3"
  },
  "language_info": {
   "codemirror_mode": {
    "name": "ipython",
    "version": 3
   },
   "file_extension": ".py",
   "mimetype": "text/x-python",
   "name": "python",
   "nbconvert_exporter": "python",
   "pygments_lexer": "ipython3",
   "version": "3.12.7"
  }
 },
 "nbformat": 4,
 "nbformat_minor": 2
}
